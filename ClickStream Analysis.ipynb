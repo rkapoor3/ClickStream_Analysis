{
 "cells": [
  {
   "cell_type": "markdown",
   "metadata": {},
   "source": [
    "# Click-log Analysis and Visualization"
   ]
  },
  {
   "cell_type": "code",
   "execution_count": 1,
   "metadata": {},
   "outputs": [],
   "source": [
    "# Importing Libraries\n",
    "import numpy as np\n",
    "import pandas as pd\n",
    "import re\n",
    "import os\n",
    "import sys\n",
    "import matplotlib.pyplot as plt"
   ]
  },
  {
   "cell_type": "code",
   "execution_count": 2,
   "metadata": {},
   "outputs": [],
   "source": [
    "pd.set_option('display.max_colwidth', -1)"
   ]
  },
  {
   "cell_type": "markdown",
   "metadata": {},
   "source": [
    "## Importing the Data"
   ]
  },
  {
   "cell_type": "code",
   "execution_count": 3,
   "metadata": {},
   "outputs": [],
   "source": [
    "# Reading the data to the DataFrame 'df'\n",
    "df = pd.read_csv(r\"C:\\Users\\Raveesh Kapoor\\Desktop\\Sample-click-log.csv\", encoding = 'iso-8859-1')"
   ]
  },
  {
   "cell_type": "code",
   "execution_count": 4,
   "metadata": {},
   "outputs": [
    {
     "data": {
      "text/html": [
       "<div>\n",
       "<style scoped>\n",
       "    .dataframe tbody tr th:only-of-type {\n",
       "        vertical-align: middle;\n",
       "    }\n",
       "\n",
       "    .dataframe tbody tr th {\n",
       "        vertical-align: top;\n",
       "    }\n",
       "\n",
       "    .dataframe thead th {\n",
       "        text-align: right;\n",
       "    }\n",
       "</style>\n",
       "<table border=\"1\" class=\"dataframe\">\n",
       "  <thead>\n",
       "    <tr style=\"text-align: right;\">\n",
       "      <th></th>\n",
       "      <th>transaction_id</th>\n",
       "      <th>affiliate_id</th>\n",
       "      <th>offer_id</th>\n",
       "      <th>datetime</th>\n",
       "      <th>ip</th>\n",
       "      <th>user_agent</th>\n",
       "      <th>country_code</th>\n",
       "      <th>device_model</th>\n",
       "      <th>device_os</th>\n",
       "      <th>device_os_version</th>\n",
       "      <th>ios_ifa</th>\n",
       "      <th>google_aid</th>\n",
       "    </tr>\n",
       "  </thead>\n",
       "  <tbody>\n",
       "    <tr>\n",
       "      <th>0</th>\n",
       "      <td>10227496c1e02a47413a940a54f71d</td>\n",
       "      <td>5087</td>\n",
       "      <td>32394</td>\n",
       "      <td>9/10/17 2:33</td>\n",
       "      <td>174.209.24.165</td>\n",
       "      <td>Mozilla/5.0 (iPhone; CPU IPhone OS 10_3_3 Like Mac OS X) AppleWebKit/603.3.8 (KHTML, Like Gecko) Mobile/14G60</td>\n",
       "      <td>US</td>\n",
       "      <td>iPhone</td>\n",
       "      <td>iOS</td>\n",
       "      <td>10.3</td>\n",
       "      <td>NaN</td>\n",
       "      <td>NaN</td>\n",
       "    </tr>\n",
       "    <tr>\n",
       "      <th>1</th>\n",
       "      <td>102c9a956cc809df1e11c572f254bc</td>\n",
       "      <td>5087</td>\n",
       "      <td>32394</td>\n",
       "      <td>9/10/17 2:33</td>\n",
       "      <td>107.77.89.33</td>\n",
       "      <td>Mozilla/5.0 (iPhone; CPU IPhone OS 10_2_1 Like Mac OS X) AppleWebKit/602.4.6 (KHTML, Like Gecko) Mobile/14D27</td>\n",
       "      <td>US</td>\n",
       "      <td>iPhone</td>\n",
       "      <td>iOS</td>\n",
       "      <td>10.2</td>\n",
       "      <td>NaN</td>\n",
       "      <td>NaN</td>\n",
       "    </tr>\n",
       "    <tr>\n",
       "      <th>2</th>\n",
       "      <td>1020255a5a856d72f0593359c7c56f</td>\n",
       "      <td>5087</td>\n",
       "      <td>32394</td>\n",
       "      <td>9/10/17 2:34</td>\n",
       "      <td>66.87.148.50</td>\n",
       "      <td>Mozilla/5.0 (iPhone; CPU IPhone OS 10_3_3 Like Mac OS X) AppleWebKit/603.3.8 (KHTML, Like Gecko) Mobile/14G60</td>\n",
       "      <td>US</td>\n",
       "      <td>iPhone</td>\n",
       "      <td>iOS</td>\n",
       "      <td>10.3</td>\n",
       "      <td>NaN</td>\n",
       "      <td>NaN</td>\n",
       "    </tr>\n",
       "    <tr>\n",
       "      <th>3</th>\n",
       "      <td>102771c8d145a4168e2eac1215124b</td>\n",
       "      <td>5087</td>\n",
       "      <td>32394</td>\n",
       "      <td>9/10/17 2:34</td>\n",
       "      <td>172.58.224.168</td>\n",
       "      <td>Mozilla/5.0 (iPhone; CPU IPhone OS 10_2_1 Like Mac OS X) AppleWebKit/602.4.6 (KHTML, Like Gecko) Mobile/14D27</td>\n",
       "      <td>US</td>\n",
       "      <td>iPhone</td>\n",
       "      <td>iOS</td>\n",
       "      <td>10.2</td>\n",
       "      <td>E2B52269-2D47-411B-B7F2-3655402CB07C</td>\n",
       "      <td>NaN</td>\n",
       "    </tr>\n",
       "    <tr>\n",
       "      <th>4</th>\n",
       "      <td>102a5e3bcdeecfed07154f605c5981</td>\n",
       "      <td>5087</td>\n",
       "      <td>32394</td>\n",
       "      <td>9/10/17 2:34</td>\n",
       "      <td>97.46.129.38</td>\n",
       "      <td>Mozilla/5.0 (iPhone; CPU IPhone OS 10_2_1 Like Mac OS X) AppleWebKit/602.4.6 (KHTML, Like Gecko) Mobile/14D27</td>\n",
       "      <td>US</td>\n",
       "      <td>iPhone</td>\n",
       "      <td>iOS</td>\n",
       "      <td>10.2</td>\n",
       "      <td>NaN</td>\n",
       "      <td>NaN</td>\n",
       "    </tr>\n",
       "  </tbody>\n",
       "</table>\n",
       "</div>"
      ],
      "text/plain": [
       "                   transaction_id  affiliate_id  offer_id      datetime  \\\n",
       "0  10227496c1e02a47413a940a54f71d  5087          32394     9/10/17 2:33   \n",
       "1  102c9a956cc809df1e11c572f254bc  5087          32394     9/10/17 2:33   \n",
       "2  1020255a5a856d72f0593359c7c56f  5087          32394     9/10/17 2:34   \n",
       "3  102771c8d145a4168e2eac1215124b  5087          32394     9/10/17 2:34   \n",
       "4  102a5e3bcdeecfed07154f605c5981  5087          32394     9/10/17 2:34   \n",
       "\n",
       "               ip  \\\n",
       "0  174.209.24.165   \n",
       "1  107.77.89.33     \n",
       "2  66.87.148.50     \n",
       "3  172.58.224.168   \n",
       "4  97.46.129.38     \n",
       "\n",
       "                                                                                                      user_agent  \\\n",
       "0  Mozilla/5.0 (iPhone; CPU IPhone OS 10_3_3 Like Mac OS X) AppleWebKit/603.3.8 (KHTML, Like Gecko) Mobile/14G60   \n",
       "1  Mozilla/5.0 (iPhone; CPU IPhone OS 10_2_1 Like Mac OS X) AppleWebKit/602.4.6 (KHTML, Like Gecko) Mobile/14D27   \n",
       "2  Mozilla/5.0 (iPhone; CPU IPhone OS 10_3_3 Like Mac OS X) AppleWebKit/603.3.8 (KHTML, Like Gecko) Mobile/14G60   \n",
       "3  Mozilla/5.0 (iPhone; CPU IPhone OS 10_2_1 Like Mac OS X) AppleWebKit/602.4.6 (KHTML, Like Gecko) Mobile/14D27   \n",
       "4  Mozilla/5.0 (iPhone; CPU IPhone OS 10_2_1 Like Mac OS X) AppleWebKit/602.4.6 (KHTML, Like Gecko) Mobile/14D27   \n",
       "\n",
       "  country_code device_model device_os  device_os_version  \\\n",
       "0  US           iPhone       iOS       10.3                \n",
       "1  US           iPhone       iOS       10.2                \n",
       "2  US           iPhone       iOS       10.3                \n",
       "3  US           iPhone       iOS       10.2                \n",
       "4  US           iPhone       iOS       10.2                \n",
       "\n",
       "                                ios_ifa google_aid  \n",
       "0  NaN                                   NaN        \n",
       "1  NaN                                   NaN        \n",
       "2  NaN                                   NaN        \n",
       "3  E2B52269-2D47-411B-B7F2-3655402CB07C  NaN        \n",
       "4  NaN                                   NaN        "
      ]
     },
     "execution_count": 4,
     "metadata": {},
     "output_type": "execute_result"
    }
   ],
   "source": [
    "# Viewing the first 5 records of the dataset\n",
    "df.head()"
   ]
  },
  {
   "cell_type": "markdown",
   "metadata": {},
   "source": [
    "## Describing the Data"
   ]
  },
  {
   "cell_type": "code",
   "execution_count": 5,
   "metadata": {},
   "outputs": [
    {
     "data": {
      "text/plain": [
       "(85976, 12)"
      ]
     },
     "execution_count": 5,
     "metadata": {},
     "output_type": "execute_result"
    }
   ],
   "source": [
    "df.shape  # Finding the dimensions of the dataset"
   ]
  },
  {
   "cell_type": "code",
   "execution_count": 6,
   "metadata": {},
   "outputs": [
    {
     "name": "stdout",
     "output_type": "stream",
     "text": [
      "<class 'pandas.core.frame.DataFrame'>\n",
      "RangeIndex: 85976 entries, 0 to 85975\n",
      "Data columns (total 12 columns):\n",
      "transaction_id       85976 non-null object\n",
      "affiliate_id         85976 non-null int64\n",
      "offer_id             85976 non-null int64\n",
      "datetime             85976 non-null object\n",
      "ip                   85976 non-null object\n",
      "user_agent           85976 non-null object\n",
      "country_code         85976 non-null object\n",
      "device_model         85944 non-null object\n",
      "device_os            85951 non-null object\n",
      "device_os_version    85950 non-null float64\n",
      "ios_ifa              10238 non-null object\n",
      "google_aid           47116 non-null object\n",
      "dtypes: float64(1), int64(2), object(9)\n",
      "memory usage: 7.9+ MB\n"
     ]
    }
   ],
   "source": [
    "df.info() # Information about the dataset"
   ]
  },
  {
   "cell_type": "code",
   "execution_count": 7,
   "metadata": {},
   "outputs": [
    {
     "data": {
      "text/plain": [
       "10"
      ]
     },
     "execution_count": 7,
     "metadata": {},
     "output_type": "execute_result"
    }
   ],
   "source": [
    "df.affiliate_id.nunique() # Number of unique values for Affiliate_Id"
   ]
  },
  {
   "cell_type": "code",
   "execution_count": 8,
   "metadata": {},
   "outputs": [
    {
     "data": {
      "text/plain": [
       "7713"
      ]
     },
     "execution_count": 8,
     "metadata": {},
     "output_type": "execute_result"
    }
   ],
   "source": [
    "df.ios_ifa.nunique() # Number of unique values for Ios_Ifa"
   ]
  },
  {
   "cell_type": "code",
   "execution_count": 9,
   "metadata": {},
   "outputs": [
    {
     "data": {
      "text/plain": [
       "46626"
      ]
     },
     "execution_count": 9,
     "metadata": {},
     "output_type": "execute_result"
    }
   ],
   "source": [
    "df.google_aid.nunique() # Number of unique values for Google_Aid"
   ]
  },
  {
   "cell_type": "code",
   "execution_count": 10,
   "metadata": {},
   "outputs": [
    {
     "data": {
      "text/plain": [
       "float"
      ]
     },
     "execution_count": 10,
     "metadata": {},
     "output_type": "execute_result"
    }
   ],
   "source": [
    "type(df.google_aid[0]) # Type of the variable Google_Aid"
   ]
  },
  {
   "cell_type": "code",
   "execution_count": 11,
   "metadata": {},
   "outputs": [
    {
     "data": {
      "text/plain": [
       "float"
      ]
     },
     "execution_count": 11,
     "metadata": {},
     "output_type": "execute_result"
    }
   ],
   "source": [
    "type(df.ios_ifa[0]) # Type of the variable Ios_Ifa"
   ]
  },
  {
   "cell_type": "code",
   "execution_count": 12,
   "metadata": {},
   "outputs": [],
   "source": [
    "df['ios_ifa'] = df['ios_ifa'].astype(str) # Converting the data type to str"
   ]
  },
  {
   "cell_type": "code",
   "execution_count": 13,
   "metadata": {},
   "outputs": [],
   "source": [
    "df['google_aid'] = df['google_aid'].astype(str) # Converting the data type to str"
   ]
  },
  {
   "cell_type": "markdown",
   "metadata": {},
   "source": [
    "### 1(a): For every affiliate_id(Col B), calculate the unique ios_ifa(Col K) & google_aid(Col L) present in the data. "
   ]
  },
  {
   "cell_type": "code",
   "execution_count": 14,
   "metadata": {},
   "outputs": [],
   "source": [
    "# Calculating the unique values of ios_ifa with respect to affiliate_id\n",
    "Unique_Aff_iosIfa = df.groupby('affiliate_id')['ios_ifa'].unique()"
   ]
  },
  {
   "cell_type": "code",
   "execution_count": 15,
   "metadata": {},
   "outputs": [
    {
     "data": {
      "text/html": [
       "<div>\n",
       "<style scoped>\n",
       "    .dataframe tbody tr th:only-of-type {\n",
       "        vertical-align: middle;\n",
       "    }\n",
       "\n",
       "    .dataframe tbody tr th {\n",
       "        vertical-align: top;\n",
       "    }\n",
       "\n",
       "    .dataframe thead th {\n",
       "        text-align: right;\n",
       "    }\n",
       "</style>\n",
       "<table border=\"1\" class=\"dataframe\">\n",
       "  <thead>\n",
       "    <tr style=\"text-align: right;\">\n",
       "      <th></th>\n",
       "      <th>ios_ifa</th>\n",
       "    </tr>\n",
       "    <tr>\n",
       "      <th>affiliate_id</th>\n",
       "      <th></th>\n",
       "    </tr>\n",
       "  </thead>\n",
       "  <tbody>\n",
       "    <tr>\n",
       "      <th>1914</th>\n",
       "      <td>[nan]</td>\n",
       "    </tr>\n",
       "    <tr>\n",
       "      <th>2882</th>\n",
       "      <td>[nan, EBA79070-D015-44C5-B845-90FD9D261BFD, 98982E52-2FEF-402E-9E48-40C435728E37, [idfa], D2316D28-01BD-47A1-B27A-6B210E7B555D, F23626B7-DB80-44F6-ACFC-EEBBB63F81A4, 249E1CC2-5310-41D8-ABF2-D2653751C21E, undefined, F5AE3ABE-FBF1-4F7F-9FE4-8FB6574F6AD2, B85EFA8D-F6DE-4332-9381-6F5FE4A8758E, 0E6B8DE3-12DA-4E7F-8975-0B93DD7ACA43, 0464E76B-4B7E-4A42-A1D6-9BA740CE2DFC, 215D4A11-C187-4BBB-B2F6-C643217B75C1, FF5016F6-1CE1-4045-AA40-C183A5A7E9D6, 10864AFF-8B9F-4188-B039-02B4B5EAEC47, E91B6FAF-3EA8-4B25-8B35-26B59D8BFA12, DBA6A3AE-1AA8-4907-B2B4-70625BB43C44, F7F507F7-8FCF-43D8-AEE3-C95C30801890, 00000000-0000-0000-0000-000000000000, B9B77A9F-5799-46FC-8631-D15032C09D44, 3EB18161-7662-4BE5-9368-53701ED84E67, 98D85586-18C0-4994-93DD-28B089D4CFE3, D6ED7818-8309-4C25-B5F2-FA63728FC3E2, 3B015625-940E-476F-A743-49E30266669F, 93EB9F6B-EECA-43AC-961B-3501E496B32A, 933A6EAB-FDF4-4AF1-B4BB-1705C5543751, 707423BD-AF9D-4694-A633-09C79C65B1A5, E7BF62AA-9B00-42D7-96C6-936D7FD52B70, 803F671C-9E34-4B63-B738-F0A5090119A0, CC32DC36-8C4E-4A06-BF48-AA3D7A55F329, 2FF40F61-E2D8-407C-8AF2-8C77495A03D9, 2fd4625c-1452-4bd4-92ed-3fdef9675eaa, 8F0C1643-1627-4F5E-9E16-190CD19555E9, 40402597-3111-4EC9-9485-90905C346702, A84D50E7-E3EA-4335-A1DC-4F87327C02B4, VOLUUM, 98C3104D-7F1D-476C-B878-8E4472B97876, 1A943368-554D-41B0-B893-48BF61D6C54A, ED6CC6BF-0249-439A-8D9A-BBEE51E6795F, 2FF93B84-28AF-4794-ADCA-567F8F4122D5, CA347C8F-0BB1-4E1E-8A94-825FB1A0351B, 3217E6F2-640A-4281-897E-90C9940FA5DD, 6885D566-8013-4ADC-9802-8F9D0F69CD7F, BEFA0334-5A25-4E34-8DC6-743D7FB6BCD5, E6DD195C-B1D5-4F88-BE0C-3271C76DD1A3, B7AF5553-DED5-4AB3-BC8B-817B24076B4F, A9EDAC4B-356A-4F5E-BE04-9697CB39E215, 781B288E-0C0C-4F09-805F-E3FA5DBCA13A, 2bafefe8-59e1-453f-b536-4996dc1310d7, E78E34A6-AF8A-47BE-A732-230FCAC0E6F2, 444E7965-D052-4041-AE91-E5A773D8D958, 8115742f-5d83-476b-8dcc-f4cc0deac4e3, 8EA45812-FA81-4805-A72A-DC6BFAF1D476, 521202EA-D287-4616-9500-E68DB38C0BF5, CEDAF483-EE9C-4A8C-97FE-EB8557EA1934, 1B95D89C-A523-49C6-ADEE-7392AD434352, 6DFC0B8D-EBBD-4C40-9CEC-A8C348A0818B, 998FF9F8-D08C-4A37-9758-2BFC436DE556, 94e49d1f-fd69-4193-9c4e-563a6d5e43e6, B0BF91BF-7EBC-4EAA-B2CA-BA077463419A, 034D528D-175B-4671-86F8-330793918FCB, 7E7DA59C-9580-4A45-83D5-1A161147F56E, 53C96012-3C97-49E2-BFE1-B2C401E51FDD, DF539CC1-18B1-4855-BF4D-26F0048E2E57, 9308E155-1F95-4233-940D-8B7C6D9895D8, 7C68B989-297C-4A44-B5D6-DD2A9479EFE9, 73EDC75B-AE48-4E41-BBDB-5B54FD3FF4C3, BA0102DC-4707-40D7-8E0D-8E9EF3459A73, 8FECCD52-5753-42C4-B518-E3DF43AC8FE8, AE646AF3-0020-427E-AEA3-AD614A6CAA08, EF8EBE2E-4DB1-4546-A451-F7AE30C92D7B, 1DCA093C-D739-43C0-B3F2-14C7E9B1829A, EB583863-DBD7-44A9-B36D-8963E69D9D05, 9B715C58-371D-4D46-BCBE-829FDCB5BE0A, 6D1F469D-02CE-4632-9572-92E6ABF2A050, 7B63CC48-7247-469B-AC05-1C578A527EE9&gt;, 59F8E930-D5A7-4180-91B4-DB07B91CCF60, 93CB09F0-5A31-4226-8F40-7D44C538BC69, DDD6FC82-A172-4B84-966F-D2034D17A4E5, 16a1614d-6a25-4a46-ade8-0b0f376f4ce3, 86678A9A-519B-402F-A915-1270A23CA80C, 67518DD4-E97F-4BB7-86A5-59B21587E497, 617_b52462e8b8bbed5560bcfb25b21d, ae7b4dc0-b1f9-402e-a863-38b7849c25f5, 78ca54d4-6222-48ad-a85c-33b2ee5230ca, E482EF08-FBCF-4398-BCEA-53CAAED80390, C579797B-E993-4BD0-A7F2-FF97DFE18D45, D174FFB6-9FBA-4DC9-BD08-F044CC1CE620, C336A640-93A4-4AB2-8B7F-784F3F49BC11, A896A6B1-ED87-4F98-BCE4-02E231FBBF32, 8ba52805-9859-419a-86e4-12928b721dd3, FD497D46-8B3F-4BAE-9251-5D968E0ED662, 4BB51FDA-B02E-4383-9AAB-11012257B255, 70E7E2E8-1C07-4908-BE2D-36A5242DDD56, -!-ZjhmYjNhNDctYzI0Zi00ZGI0LTlmODItMGJiM2YzMGEwNzMxOzE1MDQ5Njg5NDY7dXM7aXBob25lO2J1Y2tzZW5zZTszMjB4NTA7NmM4OGM0NDUtMzYzYS00NmEwLTljMWR8, 57F95FA0-9BED-4FBA-8F17-C880467695CB, 3DA95E99-3C65-49A9-BB6F-365C3F174113, B34CA8AC-4497-441B-9EA5-F39C8E758733, 5FA9716A-1A08-4768-B488-41DD0A7BF7F1, 46C0A15F-FAA9-40E7-BD39-7A0801872A76, ...]</td>\n",
       "    </tr>\n",
       "    <tr>\n",
       "      <th>4575</th>\n",
       "      <td>[nan]</td>\n",
       "    </tr>\n",
       "    <tr>\n",
       "      <th>5087</th>\n",
       "      <td>[nan, E2B52269-2D47-411B-B7F2-3655402CB07C, CCF04F58-9FA2-4275-BF90-CB2A1B2DEAE2, {idfa}, DD5B7361-B0AD-486E-9B8C-D406499C76FE, 9b7ab2e8-fbda-4289-b8cf-2acde8f05425, 93F74665-FC68-4FA4-BAF9-702BCA785EDA, E74D928A-5899-48B6-883F-32F13BC994DC, [idfa], 4D670AEA-D82B-48C0-A7AB-06B2BECCF366, 2607C3D9-C4C7-4391-9D35-B592B31D6E78, 06006192-7BB9-450D-8173-CCA44462A17C, CC182B6A-A414-41D6-8BDE-EEE3F4B2F791, 40802D04-5685-44DA-B89B-64FAB1E6611D, EF89628B-1B6D-43FC-AD59-097142B38BAE, F8EE328C-E9F1-4725-B46A-3BE89AA1DED3, E6301364-B612-481B-80CB-025F0B22B398, 9C010EA8-D290-41F4-8818-106E362AAF36, AC9793A2-BCD6-4EC2-B864-785C9083D56E, 21A0786E-5A96-4895-86B2-EBA64F3C2FEB, DFAC712F-FBC2-4DF5-86AE-3DD5336AB8B1, 72E826CC-E8F7-4D3D-BD9F-1CD8C706C2C2, D094ECD5-20FC-43B9-9193-53E3A8FB3CB3, 5335616A-AF39-48EC-B862-97EED07A159F, 0930C850-4A78-4166-BFCF-9B61724DF064, 5F01C8DA-4E2F-43C3-ABA3-017D419695FF, 5724A082-665E-40B8-91B1-C84356423384, D0AB4EA4-E746-4C8C-A282-33BE3A69D438, 9EBEFDF8-EA78-441C-B881-1371132DA8DE, 8F8418CC-895B-41BA-B1C3-2AE35786E784, 0EAF9FD0-EEA0-4298-A7F3-55A2BB5D8BA5, 8F63CF9D-3C54-4BCD-B088-5FD8082C2338, 25758039-6BF9-4EE4-BDC4-CB27DCEE277E, 4C1D51BD-C941-444E-BB96-A6BDA68AF315, 0, 32d2a6cb-1eef-4d9b-9b06-b0d6c8ee575c, 038F06A2-734C-407E-A5DF-A8377282C24E, e75c9ccc-7bca-447a-b918-0505a1fcef07, bca56ddf-5104-4ad3-828d-96b174a94924, 4ED723E8-A692-4562-8D11-B62717797778, 5b1f7435-2e10-4b6d-ad5e-08a367b7582e, 123ABD41-654F-4523-AA2F-BEC59C3D9DBD, 57fe180c-b23b-43a5-8f3e-fd8b955356ad, A728C6FF-FCF8-4D97-9D12-2E8490A2CACC, E7CC008B-2696-4018-ACE9-C0D0BCCF5BA3, D6400E52-5E22-4CA3-8CFD-A8F43C5D533B, 5928fd2f-0669-49bd-bb55-0e034086f6e3, DEB372B7-492D-415B-8906-871126256B44, FA3AFC2D-ED2F-46C0-96E1-BE7D402AA222, E4FCB6B4-D1D9-480B-8C37-176D3499F46E, 819652E3-EBCE-4561-88BB-8FB1F839324A, undefined, 8DF9B4A9-C3E7-4893-B545-FC04158EACA8, 091892B6-94D9-4700-A0D7-778B7AC02FD4, 072805f0-c3f5-4733-98f9-6fd78d770432, 6E06DDB2-0E50-40B5-B95E-664C93EB4AC3, FE3341B2-75E4-4754-BCCE-7CFAAB295583, EAF1944B-F9ED-4FD2-BB7E-D0C5AC55CC58, 6AAB89DC-DF80-4229-892F-F4360192250E, 900743A4-387A-4237-87AF-93BC66D6DC00, D352292E-468F-4FAA-B1CC-F0DB686D86EB, 3561AA9A-77F0-473C-AF06-A53D234A3F87, B5466FD5-34AC-4A08-8768-85C9CF3BA94A, 03B23322-4F03-40FD-A14D-1319E7C2AEE9, 3AFBCC03-2D27-46C1-86A6-744344954F07, D2FC7E62-2E1A-4C04-A50C-5978C0A7B83A, F5849487-75DE-4EC0-8F68-F6E89360D9BA, 4FF2B7FB-D31C-4070-8B1A-6D25DD681DF0, 1E04D29A-9F00-49C0-B906-5DD3177B73B6, A9167F04-2B3E-405E-BC44-242661B96F35, 38823B4E-7B76-4ABC-A4F0-DB024A1484E0, F5396C63-95B1-4404-B14D-942D3C6EC229, 4EB44D44-2A64-447B-A552-BB9920C3FD52, F18BD610-4224-428F-A670-100B1C7CAE1C, C1E3B967-81B3-4F3A-B2EF-A7C4327C9FEB, 3356C45F-7CB1-45B4-9EEF-E23A0255C3ED, 29aa6dbd-75ab-48eb-ad22-a6f1b2321f1d, 36D4D459-F237-4841-AEA0-2A2792EFDDC5, B980AE3C-BA9B-4913-9025-B0CF8D943D06, CA99DFA6-AD03-442F-A17E-FF3BB9F5C4D0, D96B6120-C126-4EBD-889C-251358D4989B, A5F8E8C1-E1B7-42FA-8165-B4396ED3F066, 7DA188A0-27D1-4427-AEC4-AAFF23E86758, BDA9DF08-7596-40CA-BC45-81DD70B6CF89, DED46A81-50FB-4B9E-B9FF-D2C809BB1A0C, 59B310A2-1AFF-4961-AF6B-69AB0787811A, D46AEBBA-E5BB-475E-8F84-21B6656002F3, BC075305-EBE7-4033-B3B6-5563D2D99127, 5201523F-2B8A-421B-9237-0854CB9BEFE5&gt;, d568bc69-b3d5-4e45-9515-4f512a06a33e, EE94F8B6-DD8D-4700-8B66-B58D84B43F2C, 5AE1BD64-B8E0-4684-93AD-7B1B014526C8, BCEF5593-406F-48BA-B522-0742D38941AE, 26B97B18-72A4-42B3-85AC-59E78B2D6995, F10EE4F9-20BF-4F5E-ADF0-767FE0AC7C71, UNDEFINED, C9E35F7E-633C-44F6-83D8-2AAC39C7A1AB, B40999A4-5573-49E6-92DC-970A374EB46E, 8AB05B55-6D1E-4A9A-BB33-32CD96C6A0FA, B8A94111-1928-412C-9164-FA427B1B47B4, ...]</td>\n",
       "    </tr>\n",
       "    <tr>\n",
       "      <th>5281</th>\n",
       "      <td>[C72C08FD-1233-49ED-B10E-E25EFEA3E7A7, nan, FE46AF29-6728-495F-BA2D-91634BAA9029, 26BD8A7E-4037-440F-84C5-31EF87545083, 99C2A75C-D2A0-49CF-9020-A9F7E386B01C, 72C5D4DE-9A5A-4142-9AB5-89BFC58EDF57, 77898758-0C49-4D4F-8F5E-19B4BCB58C8B, A6905066-EE16-453C-82F4-9F1ED94848BF]</td>\n",
       "    </tr>\n",
       "    <tr>\n",
       "      <th>6102</th>\n",
       "      <td>[nan]</td>\n",
       "    </tr>\n",
       "    <tr>\n",
       "      <th>6380</th>\n",
       "      <td>[B18D024E-EBC2-4F08-88DA-CDF62F2D973E]</td>\n",
       "    </tr>\n",
       "    <tr>\n",
       "      <th>6489</th>\n",
       "      <td>[nan, 6535DB47-BCF8-439B-809B-811FE924F7B7, 8ABC83CE-8BC3-4404-8364-3391952F8849]</td>\n",
       "    </tr>\n",
       "    <tr>\n",
       "      <th>6507</th>\n",
       "      <td>[nan]</td>\n",
       "    </tr>\n",
       "    <tr>\n",
       "      <th>6651</th>\n",
       "      <td>[nan]</td>\n",
       "    </tr>\n",
       "  </tbody>\n",
       "</table>\n",
       "</div>"
      ],
      "text/plain": [
       "                                                                                                                                                                                                                                                                                                                                                                                                                                                                                                                                                                                                                                                                                                                                                                                                                                                                                                                                                                                                                                                                                                                                                                                                                                                                                                                                                                                                                                                                                                                                                                                                                                                                                                                                                                                                                                                                                                                                                                                                                                                                                                                                                                                                                                                                                                                                                                                                                                                                                                                                                                                                                                                                                                                                                                                                                                                                                                                                                                                                                                                                                                                                                                                                                                                                                                                                                                                                                                                                                                                                                                                                                                                                                                                                                                                                                                                                                                                                            ios_ifa\n",
       "affiliate_id                                                                                                                                                                                                                                                                                                                                                                                                                                                                                                                                                                                                                                                                                                                                                                                                                                                                                                                                                                                                                                                                                                                                                                                                                                                                                                                                                                                                                                                                                                                                                                                                                                                                                                                                                                                                                                                                                                                                                                                                                                                                                                                                                                                                                                                                                                                                                                                                                                                                                                                                                                                                                                                                                                                                                                                                                                                                                                                                                                                                                                                                                                                                                                                                                                                                                                                                                                                                                                                                                                                                                                                                                                                                                                                                                                                                                                                                                                                                       \n",
       "1914          [nan]                                                                                                                                                                                                                                                                                                                                                                                                                                                                                                                                                                                                                                                                                                                                                                                                                                                                                                                                                                                                                                                                                                                                                                                                                                                                                                                                                                                                                                                                                                                                                                                                                                                                                                                                                                                                                                                                                                                                                                                                                                                                                                                                                                                                                                                                                                                                                                                                                                                                                                                                                                                                                                                                                                                                                                                                                                                                                                                                                                                                                                                                                                                                                                                                                                                                                                                                                                                                                                                                                                                                                                                                                                                                                                                                                                                                                                                                                                                                \n",
       "2882          [nan, EBA79070-D015-44C5-B845-90FD9D261BFD, 98982E52-2FEF-402E-9E48-40C435728E37, [idfa], D2316D28-01BD-47A1-B27A-6B210E7B555D, F23626B7-DB80-44F6-ACFC-EEBBB63F81A4, 249E1CC2-5310-41D8-ABF2-D2653751C21E, undefined, F5AE3ABE-FBF1-4F7F-9FE4-8FB6574F6AD2, B85EFA8D-F6DE-4332-9381-6F5FE4A8758E, 0E6B8DE3-12DA-4E7F-8975-0B93DD7ACA43, 0464E76B-4B7E-4A42-A1D6-9BA740CE2DFC, 215D4A11-C187-4BBB-B2F6-C643217B75C1, FF5016F6-1CE1-4045-AA40-C183A5A7E9D6, 10864AFF-8B9F-4188-B039-02B4B5EAEC47, E91B6FAF-3EA8-4B25-8B35-26B59D8BFA12, DBA6A3AE-1AA8-4907-B2B4-70625BB43C44, F7F507F7-8FCF-43D8-AEE3-C95C30801890, 00000000-0000-0000-0000-000000000000, B9B77A9F-5799-46FC-8631-D15032C09D44, 3EB18161-7662-4BE5-9368-53701ED84E67, 98D85586-18C0-4994-93DD-28B089D4CFE3, D6ED7818-8309-4C25-B5F2-FA63728FC3E2, 3B015625-940E-476F-A743-49E30266669F, 93EB9F6B-EECA-43AC-961B-3501E496B32A, 933A6EAB-FDF4-4AF1-B4BB-1705C5543751, 707423BD-AF9D-4694-A633-09C79C65B1A5, E7BF62AA-9B00-42D7-96C6-936D7FD52B70, 803F671C-9E34-4B63-B738-F0A5090119A0, CC32DC36-8C4E-4A06-BF48-AA3D7A55F329, 2FF40F61-E2D8-407C-8AF2-8C77495A03D9, 2fd4625c-1452-4bd4-92ed-3fdef9675eaa, 8F0C1643-1627-4F5E-9E16-190CD19555E9, 40402597-3111-4EC9-9485-90905C346702, A84D50E7-E3EA-4335-A1DC-4F87327C02B4, VOLUUM, 98C3104D-7F1D-476C-B878-8E4472B97876, 1A943368-554D-41B0-B893-48BF61D6C54A, ED6CC6BF-0249-439A-8D9A-BBEE51E6795F, 2FF93B84-28AF-4794-ADCA-567F8F4122D5, CA347C8F-0BB1-4E1E-8A94-825FB1A0351B, 3217E6F2-640A-4281-897E-90C9940FA5DD, 6885D566-8013-4ADC-9802-8F9D0F69CD7F, BEFA0334-5A25-4E34-8DC6-743D7FB6BCD5, E6DD195C-B1D5-4F88-BE0C-3271C76DD1A3, B7AF5553-DED5-4AB3-BC8B-817B24076B4F, A9EDAC4B-356A-4F5E-BE04-9697CB39E215, 781B288E-0C0C-4F09-805F-E3FA5DBCA13A, 2bafefe8-59e1-453f-b536-4996dc1310d7, E78E34A6-AF8A-47BE-A732-230FCAC0E6F2, 444E7965-D052-4041-AE91-E5A773D8D958, 8115742f-5d83-476b-8dcc-f4cc0deac4e3, 8EA45812-FA81-4805-A72A-DC6BFAF1D476, 521202EA-D287-4616-9500-E68DB38C0BF5, CEDAF483-EE9C-4A8C-97FE-EB8557EA1934, 1B95D89C-A523-49C6-ADEE-7392AD434352, 6DFC0B8D-EBBD-4C40-9CEC-A8C348A0818B, 998FF9F8-D08C-4A37-9758-2BFC436DE556, 94e49d1f-fd69-4193-9c4e-563a6d5e43e6, B0BF91BF-7EBC-4EAA-B2CA-BA077463419A, 034D528D-175B-4671-86F8-330793918FCB, 7E7DA59C-9580-4A45-83D5-1A161147F56E, 53C96012-3C97-49E2-BFE1-B2C401E51FDD, DF539CC1-18B1-4855-BF4D-26F0048E2E57, 9308E155-1F95-4233-940D-8B7C6D9895D8, 7C68B989-297C-4A44-B5D6-DD2A9479EFE9, 73EDC75B-AE48-4E41-BBDB-5B54FD3FF4C3, BA0102DC-4707-40D7-8E0D-8E9EF3459A73, 8FECCD52-5753-42C4-B518-E3DF43AC8FE8, AE646AF3-0020-427E-AEA3-AD614A6CAA08, EF8EBE2E-4DB1-4546-A451-F7AE30C92D7B, 1DCA093C-D739-43C0-B3F2-14C7E9B1829A, EB583863-DBD7-44A9-B36D-8963E69D9D05, 9B715C58-371D-4D46-BCBE-829FDCB5BE0A, 6D1F469D-02CE-4632-9572-92E6ABF2A050, 7B63CC48-7247-469B-AC05-1C578A527EE9>, 59F8E930-D5A7-4180-91B4-DB07B91CCF60, 93CB09F0-5A31-4226-8F40-7D44C538BC69, DDD6FC82-A172-4B84-966F-D2034D17A4E5, 16a1614d-6a25-4a46-ade8-0b0f376f4ce3, 86678A9A-519B-402F-A915-1270A23CA80C, 67518DD4-E97F-4BB7-86A5-59B21587E497, 617_b52462e8b8bbed5560bcfb25b21d, ae7b4dc0-b1f9-402e-a863-38b7849c25f5, 78ca54d4-6222-48ad-a85c-33b2ee5230ca, E482EF08-FBCF-4398-BCEA-53CAAED80390, C579797B-E993-4BD0-A7F2-FF97DFE18D45, D174FFB6-9FBA-4DC9-BD08-F044CC1CE620, C336A640-93A4-4AB2-8B7F-784F3F49BC11, A896A6B1-ED87-4F98-BCE4-02E231FBBF32, 8ba52805-9859-419a-86e4-12928b721dd3, FD497D46-8B3F-4BAE-9251-5D968E0ED662, 4BB51FDA-B02E-4383-9AAB-11012257B255, 70E7E2E8-1C07-4908-BE2D-36A5242DDD56, -!-ZjhmYjNhNDctYzI0Zi00ZGI0LTlmODItMGJiM2YzMGEwNzMxOzE1MDQ5Njg5NDY7dXM7aXBob25lO2J1Y2tzZW5zZTszMjB4NTA7NmM4OGM0NDUtMzYzYS00NmEwLTljMWR8, 57F95FA0-9BED-4FBA-8F17-C880467695CB, 3DA95E99-3C65-49A9-BB6F-365C3F174113, B34CA8AC-4497-441B-9EA5-F39C8E758733, 5FA9716A-1A08-4768-B488-41DD0A7BF7F1, 46C0A15F-FAA9-40E7-BD39-7A0801872A76, ...]\n",
       "4575          [nan]                                                                                                                                                                                                                                                                                                                                                                                                                                                                                                                                                                                                                                                                                                                                                                                                                                                                                                                                                                                                                                                                                                                                                                                                                                                                                                                                                                                                                                                                                                                                                                                                                                                                                                                                                                                                                                                                                                                                                                                                                                                                                                                                                                                                                                                                                                                                                                                                                                                                                                                                                                                                                                                                                                                                                                                                                                                                                                                                                                                                                                                                                                                                                                                                                                                                                                                                                                                                                                                                                                                                                                                                                                                                                                                                                                                                                                                                                                                                \n",
       "5087          [nan, E2B52269-2D47-411B-B7F2-3655402CB07C, CCF04F58-9FA2-4275-BF90-CB2A1B2DEAE2, {idfa}, DD5B7361-B0AD-486E-9B8C-D406499C76FE, 9b7ab2e8-fbda-4289-b8cf-2acde8f05425, 93F74665-FC68-4FA4-BAF9-702BCA785EDA, E74D928A-5899-48B6-883F-32F13BC994DC, [idfa], 4D670AEA-D82B-48C0-A7AB-06B2BECCF366, 2607C3D9-C4C7-4391-9D35-B592B31D6E78, 06006192-7BB9-450D-8173-CCA44462A17C, CC182B6A-A414-41D6-8BDE-EEE3F4B2F791, 40802D04-5685-44DA-B89B-64FAB1E6611D, EF89628B-1B6D-43FC-AD59-097142B38BAE, F8EE328C-E9F1-4725-B46A-3BE89AA1DED3, E6301364-B612-481B-80CB-025F0B22B398, 9C010EA8-D290-41F4-8818-106E362AAF36, AC9793A2-BCD6-4EC2-B864-785C9083D56E, 21A0786E-5A96-4895-86B2-EBA64F3C2FEB, DFAC712F-FBC2-4DF5-86AE-3DD5336AB8B1, 72E826CC-E8F7-4D3D-BD9F-1CD8C706C2C2, D094ECD5-20FC-43B9-9193-53E3A8FB3CB3, 5335616A-AF39-48EC-B862-97EED07A159F, 0930C850-4A78-4166-BFCF-9B61724DF064, 5F01C8DA-4E2F-43C3-ABA3-017D419695FF, 5724A082-665E-40B8-91B1-C84356423384, D0AB4EA4-E746-4C8C-A282-33BE3A69D438, 9EBEFDF8-EA78-441C-B881-1371132DA8DE, 8F8418CC-895B-41BA-B1C3-2AE35786E784, 0EAF9FD0-EEA0-4298-A7F3-55A2BB5D8BA5, 8F63CF9D-3C54-4BCD-B088-5FD8082C2338, 25758039-6BF9-4EE4-BDC4-CB27DCEE277E, 4C1D51BD-C941-444E-BB96-A6BDA68AF315, 0, 32d2a6cb-1eef-4d9b-9b06-b0d6c8ee575c, 038F06A2-734C-407E-A5DF-A8377282C24E, e75c9ccc-7bca-447a-b918-0505a1fcef07, bca56ddf-5104-4ad3-828d-96b174a94924, 4ED723E8-A692-4562-8D11-B62717797778, 5b1f7435-2e10-4b6d-ad5e-08a367b7582e, 123ABD41-654F-4523-AA2F-BEC59C3D9DBD, 57fe180c-b23b-43a5-8f3e-fd8b955356ad, A728C6FF-FCF8-4D97-9D12-2E8490A2CACC, E7CC008B-2696-4018-ACE9-C0D0BCCF5BA3, D6400E52-5E22-4CA3-8CFD-A8F43C5D533B, 5928fd2f-0669-49bd-bb55-0e034086f6e3, DEB372B7-492D-415B-8906-871126256B44, FA3AFC2D-ED2F-46C0-96E1-BE7D402AA222, E4FCB6B4-D1D9-480B-8C37-176D3499F46E, 819652E3-EBCE-4561-88BB-8FB1F839324A, undefined, 8DF9B4A9-C3E7-4893-B545-FC04158EACA8, 091892B6-94D9-4700-A0D7-778B7AC02FD4, 072805f0-c3f5-4733-98f9-6fd78d770432, 6E06DDB2-0E50-40B5-B95E-664C93EB4AC3, FE3341B2-75E4-4754-BCCE-7CFAAB295583, EAF1944B-F9ED-4FD2-BB7E-D0C5AC55CC58, 6AAB89DC-DF80-4229-892F-F4360192250E, 900743A4-387A-4237-87AF-93BC66D6DC00, D352292E-468F-4FAA-B1CC-F0DB686D86EB, 3561AA9A-77F0-473C-AF06-A53D234A3F87, B5466FD5-34AC-4A08-8768-85C9CF3BA94A, 03B23322-4F03-40FD-A14D-1319E7C2AEE9, 3AFBCC03-2D27-46C1-86A6-744344954F07, D2FC7E62-2E1A-4C04-A50C-5978C0A7B83A, F5849487-75DE-4EC0-8F68-F6E89360D9BA, 4FF2B7FB-D31C-4070-8B1A-6D25DD681DF0, 1E04D29A-9F00-49C0-B906-5DD3177B73B6, A9167F04-2B3E-405E-BC44-242661B96F35, 38823B4E-7B76-4ABC-A4F0-DB024A1484E0, F5396C63-95B1-4404-B14D-942D3C6EC229, 4EB44D44-2A64-447B-A552-BB9920C3FD52, F18BD610-4224-428F-A670-100B1C7CAE1C, C1E3B967-81B3-4F3A-B2EF-A7C4327C9FEB, 3356C45F-7CB1-45B4-9EEF-E23A0255C3ED, 29aa6dbd-75ab-48eb-ad22-a6f1b2321f1d, 36D4D459-F237-4841-AEA0-2A2792EFDDC5, B980AE3C-BA9B-4913-9025-B0CF8D943D06, CA99DFA6-AD03-442F-A17E-FF3BB9F5C4D0, D96B6120-C126-4EBD-889C-251358D4989B, A5F8E8C1-E1B7-42FA-8165-B4396ED3F066, 7DA188A0-27D1-4427-AEC4-AAFF23E86758, BDA9DF08-7596-40CA-BC45-81DD70B6CF89, DED46A81-50FB-4B9E-B9FF-D2C809BB1A0C, 59B310A2-1AFF-4961-AF6B-69AB0787811A, D46AEBBA-E5BB-475E-8F84-21B6656002F3, BC075305-EBE7-4033-B3B6-5563D2D99127, 5201523F-2B8A-421B-9237-0854CB9BEFE5>, d568bc69-b3d5-4e45-9515-4f512a06a33e, EE94F8B6-DD8D-4700-8B66-B58D84B43F2C, 5AE1BD64-B8E0-4684-93AD-7B1B014526C8, BCEF5593-406F-48BA-B522-0742D38941AE, 26B97B18-72A4-42B3-85AC-59E78B2D6995, F10EE4F9-20BF-4F5E-ADF0-767FE0AC7C71, UNDEFINED, C9E35F7E-633C-44F6-83D8-2AAC39C7A1AB, B40999A4-5573-49E6-92DC-970A374EB46E, 8AB05B55-6D1E-4A9A-BB33-32CD96C6A0FA, B8A94111-1928-412C-9164-FA427B1B47B4, ...]                                                                                                                                                             \n",
       "5281          [C72C08FD-1233-49ED-B10E-E25EFEA3E7A7, nan, FE46AF29-6728-495F-BA2D-91634BAA9029, 26BD8A7E-4037-440F-84C5-31EF87545083, 99C2A75C-D2A0-49CF-9020-A9F7E386B01C, 72C5D4DE-9A5A-4142-9AB5-89BFC58EDF57, 77898758-0C49-4D4F-8F5E-19B4BCB58C8B, A6905066-EE16-453C-82F4-9F1ED94848BF]                                                                                                                                                                                                                                                                                                                                                                                                                                                                                                                                                                                                                                                                                                                                                                                                                                                                                                                                                                                                                                                                                                                                                                                                                                                                                                                                                                                                                                                                                                                                                                                                                                                                                                                                                                                                                                                                                                                                                                                                                                                                                                                                                                                                                                                                                                                                                                                                                                                                                                                                                                                                                                                                                                                                                                                                                                                                                                                                                                                                                                                                                                                                                                                                                                                                                                                                                                                                                                                                                                                                                                                                                                                      \n",
       "6102          [nan]                                                                                                                                                                                                                                                                                                                                                                                                                                                                                                                                                                                                                                                                                                                                                                                                                                                                                                                                                                                                                                                                                                                                                                                                                                                                                                                                                                                                                                                                                                                                                                                                                                                                                                                                                                                                                                                                                                                                                                                                                                                                                                                                                                                                                                                                                                                                                                                                                                                                                                                                                                                                                                                                                                                                                                                                                                                                                                                                                                                                                                                                                                                                                                                                                                                                                                                                                                                                                                                                                                                                                                                                                                                                                                                                                                                                                                                                                                                                \n",
       "6380          [B18D024E-EBC2-4F08-88DA-CDF62F2D973E]                                                                                                                                                                                                                                                                                                                                                                                                                                                                                                                                                                                                                                                                                                                                                                                                                                                                                                                                                                                                                                                                                                                                                                                                                                                                                                                                                                                                                                                                                                                                                                                                                                                                                                                                                                                                                                                                                                                                                                                                                                                                                                                                                                                                                                                                                                                                                                                                                                                                                                                                                                                                                                                                                                                                                                                                                                                                                                                                                                                                                                                                                                                                                                                                                                                                                                                                                                                                                                                                                                                                                                                                                                                                                                                                                                                                                                                                                               \n",
       "6489          [nan, 6535DB47-BCF8-439B-809B-811FE924F7B7, 8ABC83CE-8BC3-4404-8364-3391952F8849]                                                                                                                                                                                                                                                                                                                                                                                                                                                                                                                                                                                                                                                                                                                                                                                                                                                                                                                                                                                                                                                                                                                                                                                                                                                                                                                                                                                                                                                                                                                                                                                                                                                                                                                                                                                                                                                                                                                                                                                                                                                                                                                                                                                                                                                                                                                                                                                                                                                                                                                                                                                                                                                                                                                                                                                                                                                                                                                                                                                                                                                                                                                                                                                                                                                                                                                                                                                                                                                                                                                                                                                                                                                                                                                                                                                                                                                    \n",
       "6507          [nan]                                                                                                                                                                                                                                                                                                                                                                                                                                                                                                                                                                                                                                                                                                                                                                                                                                                                                                                                                                                                                                                                                                                                                                                                                                                                                                                                                                                                                                                                                                                                                                                                                                                                                                                                                                                                                                                                                                                                                                                                                                                                                                                                                                                                                                                                                                                                                                                                                                                                                                                                                                                                                                                                                                                                                                                                                                                                                                                                                                                                                                                                                                                                                                                                                                                                                                                                                                                                                                                                                                                                                                                                                                                                                                                                                                                                                                                                                                                                \n",
       "6651          [nan]                                                                                                                                                                                                                                                                                                                                                                                                                                                                                                                                                                                                                                                                                                                                                                                                                                                                                                                                                                                                                                                                                                                                                                                                                                                                                                                                                                                                                                                                                                                                                                                                                                                                                                                                                                                                                                                                                                                                                                                                                                                                                                                                                                                                                                                                                                                                                                                                                                                                                                                                                                                                                                                                                                                                                                                                                                                                                                                                                                                                                                                                                                                                                                                                                                                                                                                                                                                                                                                                                                                                                                                                                                                                                                                                                                                                                                                                                                                                "
      ]
     },
     "execution_count": 15,
     "metadata": {},
     "output_type": "execute_result"
    }
   ],
   "source": [
    "# Converting the above series to a DataFrame\n",
    "pd.DataFrame(Unique_Aff_iosIfa)"
   ]
  },
  {
   "cell_type": "code",
   "execution_count": 16,
   "metadata": {},
   "outputs": [],
   "source": [
    "# Calculating the total unique values per affiliate_id\n",
    "iosIfaUniqueCount = {}\n",
    "for key in Unique_Aff_iosIfa.keys():\n",
    "    iosIfaUniqueCount[key] = len(Unique_Aff_iosIfa.get(key))"
   ]
  },
  {
   "cell_type": "code",
   "execution_count": 17,
   "metadata": {},
   "outputs": [
    {
     "data": {
      "text/plain": [
       "{1914: 1,\n",
       " 2882: 190,\n",
       " 4575: 1,\n",
       " 5087: 7535,\n",
       " 5281: 8,\n",
       " 6102: 1,\n",
       " 6380: 1,\n",
       " 6489: 3,\n",
       " 6507: 1,\n",
       " 6651: 1}"
      ]
     },
     "execution_count": 17,
     "metadata": {},
     "output_type": "execute_result"
    }
   ],
   "source": [
    "iosIfaUniqueCount"
   ]
  },
  {
   "cell_type": "code",
   "execution_count": 18,
   "metadata": {},
   "outputs": [
    {
     "data": {
      "text/plain": [
       "<matplotlib.axes._subplots.AxesSubplot at 0x1c083656470>"
      ]
     },
     "execution_count": 18,
     "metadata": {},
     "output_type": "execute_result"
    },
    {
     "data": {
      "image/png": "[encoded data removed]",
      "text/plain": [
       "<matplotlib.figure.Figure at 0x1c083633f60>"
      ]
     },
     "metadata": {},
     "output_type": "display_data"
    }
   ],
   "source": [
    "# Plotting the graph for ios_ifa with respect to affiliate_id\n",
    "iosIfaPlot = pd.Series(iosIfaUniqueCount)\n",
    "iosIfaPlot.plot('bar')"
   ]
  },
  {
   "cell_type": "code",
   "execution_count": 19,
   "metadata": {},
   "outputs": [],
   "source": [
    "# Converting the above Dictionary to a DataFrame\n",
    "plottingdf_iosIfa = pd.DataFrame(list(iosIfaUniqueCount.items()), columns=[\"ID\",\"Ios_Ifa_Count\"], index=iosIfaUniqueCount.keys())"
   ]
  },
  {
   "cell_type": "code",
   "execution_count": 20,
   "metadata": {},
   "outputs": [
    {
     "data": {
      "text/html": [
       "<div>\n",
       "<style scoped>\n",
       "    .dataframe tbody tr th:only-of-type {\n",
       "        vertical-align: middle;\n",
       "    }\n",
       "\n",
       "    .dataframe tbody tr th {\n",
       "        vertical-align: top;\n",
       "    }\n",
       "\n",
       "    .dataframe thead th {\n",
       "        text-align: right;\n",
       "    }\n",
       "</style>\n",
       "<table border=\"1\" class=\"dataframe\">\n",
       "  <thead>\n",
       "    <tr style=\"text-align: right;\">\n",
       "      <th></th>\n",
       "      <th>ID</th>\n",
       "      <th>Ios_Ifa_Count</th>\n",
       "    </tr>\n",
       "  </thead>\n",
       "  <tbody>\n",
       "    <tr>\n",
       "      <th>1914</th>\n",
       "      <td>1914</td>\n",
       "      <td>1</td>\n",
       "    </tr>\n",
       "    <tr>\n",
       "      <th>2882</th>\n",
       "      <td>2882</td>\n",
       "      <td>190</td>\n",
       "    </tr>\n",
       "    <tr>\n",
       "      <th>4575</th>\n",
       "      <td>4575</td>\n",
       "      <td>1</td>\n",
       "    </tr>\n",
       "    <tr>\n",
       "      <th>5087</th>\n",
       "      <td>5087</td>\n",
       "      <td>7535</td>\n",
       "    </tr>\n",
       "    <tr>\n",
       "      <th>5281</th>\n",
       "      <td>5281</td>\n",
       "      <td>8</td>\n",
       "    </tr>\n",
       "    <tr>\n",
       "      <th>6102</th>\n",
       "      <td>6102</td>\n",
       "      <td>1</td>\n",
       "    </tr>\n",
       "    <tr>\n",
       "      <th>6380</th>\n",
       "      <td>6380</td>\n",
       "      <td>1</td>\n",
       "    </tr>\n",
       "    <tr>\n",
       "      <th>6489</th>\n",
       "      <td>6489</td>\n",
       "      <td>3</td>\n",
       "    </tr>\n",
       "    <tr>\n",
       "      <th>6507</th>\n",
       "      <td>6507</td>\n",
       "      <td>1</td>\n",
       "    </tr>\n",
       "    <tr>\n",
       "      <th>6651</th>\n",
       "      <td>6651</td>\n",
       "      <td>1</td>\n",
       "    </tr>\n",
       "  </tbody>\n",
       "</table>\n",
       "</div>"
      ],
      "text/plain": [
       "        ID  Ios_Ifa_Count\n",
       "1914  1914  1            \n",
       "2882  2882  190          \n",
       "4575  4575  1            \n",
       "5087  5087  7535         \n",
       "5281  5281  8            \n",
       "6102  6102  1            \n",
       "6380  6380  1            \n",
       "6489  6489  3            \n",
       "6507  6507  1            \n",
       "6651  6651  1            "
      ]
     },
     "execution_count": 20,
     "metadata": {},
     "output_type": "execute_result"
    }
   ],
   "source": [
    "plottingdf_iosIfa # DataFrame to be used for plotting the graph for 2(a)"
   ]
  },
  {
   "cell_type": "code",
   "execution_count": 21,
   "metadata": {},
   "outputs": [],
   "source": [
    "# Calculating the unique values of Google_Aid with respect to affiliate_id\n",
    "Unique_Aff_googleAid = df.groupby('affiliate_id')['google_aid'].unique()"
   ]
  },
  {
   "cell_type": "code",
   "execution_count": 22,
   "metadata": {},
   "outputs": [
    {
     "data": {
      "text/html": [
       "<div>\n",
       "<style scoped>\n",
       "    .dataframe tbody tr th:only-of-type {\n",
       "        vertical-align: middle;\n",
       "    }\n",
       "\n",
       "    .dataframe tbody tr th {\n",
       "        vertical-align: top;\n",
       "    }\n",
       "\n",
       "    .dataframe thead th {\n",
       "        text-align: right;\n",
       "    }\n",
       "</style>\n",
       "<table border=\"1\" class=\"dataframe\">\n",
       "  <thead>\n",
       "    <tr style=\"text-align: right;\">\n",
       "      <th></th>\n",
       "      <th>google_aid</th>\n",
       "    </tr>\n",
       "    <tr>\n",
       "      <th>affiliate_id</th>\n",
       "      <th></th>\n",
       "    </tr>\n",
       "  </thead>\n",
       "  <tbody>\n",
       "    <tr>\n",
       "      <th>1914</th>\n",
       "      <td>[96a31720-931e-46a6-aad1-9f08e6ad27bd, fda7ddff-bfeb-4f15-9b1c-aaa9d4686652, 79d3faad-457e-451a-b907-8bbcc648b86a, 99f9fd76-3220-4529-952a-9fed45bee011, 7c484eed-7ff0-4128-b9c7-615dec263f6f, d187c171-1d18-461c-b13e-10d11403d6df, d8ac382f-4fd7-46c5-9426-4430053f6c94, 02a5dcc7-52c0-4c35-8d88-1f308b7dff4e, 6593db45-58a4-4d44-b516-0949835e6b6a, 033fbe3f-99bd-45bb-8502-a68388c28fba, 86182392-a4f3-44e6-92d2-e74eaa6883e5, b4023a7a-c323-475f-94c7-a5771fa5590a, b1b6bfcc-c4fc-43d1-bfd0-01fb95ea7d42, 35481f0d-a69d-4111-a837-ea5fb37a240a, 90edeb30-9a40-4513-a0b2-80ce754b3afb, 719e8600-cd09-4068-8398-a880acdb7ad0, d4191f97-f18e-4bbd-895d-108f325e217c, 81f81575-d0cd-4720-8913-263324d966a6, 57402944-543d-4886-99b2-a2473c987cf7]</td>\n",
       "    </tr>\n",
       "    <tr>\n",
       "      <th>2882</th>\n",
       "      <td>[nan, D2316D28-01BD-47A1-B27A-6B210E7B555D, Musi - Unlimited Free Music From YouTube (FREE App Download), {tp_aaid}, 1855862F-5D74-4D46-A06C-1493729CF85E, 00000000-0000-0000-0000-000000000000, og7p60oe-bvi8-7t4k-0egy-h9fiflp99me5, 40402597-3111-4EC9-9485-90905C346702, E78E34A6-AF8A-47BE-A732-230FCAC0E6F2, 5ba4ed58-af53-4d55-a105-d1a9437f6b6a, aff_sub3, [idfa], CONVX-0109, $IDFA, 6bca2959-70b3-4db2-bc70-945540d590c1, DB2F2F51-2DAA-4EA9-BDB2-690EF80BAEE0, CA6AF176-2A48-466D-BDD8-013EC54FB009, undefined, eqbax0uf-fmrb-wkgx-705m-9fy2bnigqhpy, A601739D-360F-4FE9-87B9-0050E9F1BBFE, C11A3D96-BBBB-4AA1-A761-F6EBE78DE4D8, 6BA835FF-BE4E-4638-8721-B4E555438F36, 27de7874-b852-4c6a-ad66-1da698171f78]</td>\n",
       "    </tr>\n",
       "    <tr>\n",
       "      <th>4575</th>\n",
       "      <td>[nan]</td>\n",
       "    </tr>\n",
       "    <tr>\n",
       "      <th>5087</th>\n",
       "      <td>[nan, b6066183a9cb4b8eb68ac6ea03ff8944, e7cc008b-2696-4018-ace9-c0d0bccf5ba3, MeetMe - Chat and Meet New People, {tp_aaid}, Musi - Unlimited Free Music From YouTube (FREE App Download), undefined, 705dc464-e6ed-48f9-a698-be1c8d6c9db9, 0qa9l8u6-gook-qp60-nzve-nf5ua3zj07cr, [gaid], Musi - Unlimited Music For YouTube, iVideo for Youtube, 205F3A23-03BF-4A9D-997A-4A30255311C0, mb9wtrfy-2a3w-d1mj-9jm5-qr0q0iw6tou4, 31BCAF32-0D19-442D-A924-26D3857ADCE9, efaa91bfb872480b8b7cadbc9a127e08, 88f8dc6b-2c47-4ce8-909a-dfb702a06359, 553476C0-287D-44F3-AAA5-BB28DE9AC962, B1DDBCF2F2635419710BD0D822D1D639, 665889B4-DE89-4A39-819C-67E694297C8E, $IDFA, DCFC7F66-3A27-4528-B445-20F4901EE0D5, dd7b76b6-81f0-4508-aca3-cae91a88a5b5, 1DAE8CB5-C874-40C3-B7EE-D050D72711CF, 54AC85DB-1D3F-4D37-8ABA-B95AD0AD0C6D, NetTube for Youtube, 42fllqmj-3k0y-0w2u-fxe9-t1nm6xa5nnhr, ECE208CA-3D40-4637-B4C4-519C2681389D, 1f73f7392ae7423c9dd13c1271be8c01, 8mpr5og6-6b36-pk4g-m1ve-enkghsfpl7k1, znrf76j5-gk4u-xo85-03gi-4nxj3nci42tx, 1qf2udnl-pmxd-rc7d-4mu1-v0dxtqbm8kb8, 7CD90512-9C16-4600-BD50-4AC2D149DC99, 318D1A7A-F1B8-45B9-8FF7-3B569050CC5C, aff_sub3, 317ead63-84db-48ac-af49-1fbe6400112d, zja5e80u-j9jt-fr5j-8xpv-3qthbymbcl1p, zl56nitm-ow3y-3i9m-via7-cyrvexmu9b9s, ea18e27c-4318-4307-8bd0-7bcdc1f02604, 1ec8dc70-e90e-4df0-87aa-a54deb345e97, cabee550-f36f-45b5-b69e-13925c542537, {gaid}, 8CBBA558-C4EC-4829-A90F-83B3ABA56888, idfa, 075a8402-5255-4e5d-b55f-83d41318a194, 423FF212-C0F0-42DE-A5DF-0E53AF6577D7, 26f29dcf-0582-4336-9d98-4513585ee24d, 00000000-0000-0000-0000-000000000000, 3ae2f909-8139-45fb-8f13-a291015a9f7e, 1FA08B03-D015-4280-872C-3702350E48D1, 7B443C79-87DC-489F-8F82-15F751CA0553, aad57f2e-1ba8-4e60-a7fe-badbc790edfc, [idfa], agltb3B1Yi1pbmNyDAsSA0FwcBixpIYUDA, f870ea31-a2da-4a2c-91a9-16691805b70f, hk41qyp2-aq9b-gq5u-e931-p7353eddxfvf, b9bf2c18-3527-42cf-b641-f587952502c8, v10coegp-uccy-kpbb-delq-ngrzhvk0pb22, 9408F3D5-1169-4754-8C4C-51E99CE88017, 7fw35dt4-s9ef-oi51-1z7v-boo0e17xw2c3, 64bb35f7-a9fa-4f22-a9c4-665abc2ee2de, 4827c014-d259-42eb-8fc2-2fe04c996f3d, 79e7d792-c4c3-4fb6-86b7-a32fc24b1af8, es9liker-2va2-cem2-h5qx-k12lgjw1fd3j, D03BCC94-09F4-42B4-A1C8-42ED82C1A784, DA7D054C-9EB8-414D-8412-90E18D5782BC, 85eec426-5ea2-4d2a-95fe-9cacb91b7240, 46B89D38-F66C-417B-B1D6-F0A3004163F0, dd9cd2c3-5eb0-41d6-95a4-6028c1eb4504, 2h53mhxf-0jz4-jjkh-fdnq-a0ppvpsj1ula, 951A3CDE-993F-45B9-9E81-BD71D82265FA, 1855862F-5D74-4D46-A06C-1493729CF85E, 9C7DBD63-4A96-4D36-8724-DA0875321C52, adc2e7bc-fb68-467b-b2ac-eb8a4b595c58, kk2ssc4p-hj4j-ea4l-36yi-333cfcuhcs7f, 2a090873-b2bc-4c5a-b289-973c03b7940d, E15A85BE-B8DB-4115-A738-2D0564B44104, 6cba735e-4838-424f-8271-c8c004d4374c, 699ED055-2BD3-42B1-BFBA-42A12EBCDFEF, 4a5fd09f-3d8d-4c61-ae0e-e87767bf5efb, DA3A46DC-E8DD-4810-A967-965F8C9DD753, w53jbk40-hn8u-gw8i-vkej-cxykvgg93dzi, E5BCE605-4C3A-8EED-0837-2BDF6CE35727, c5b2191b-d8c7-4840-b810-1e67774df3d7, 26DDF0E1-3273-4029-BC71-9A4AD737BDAC, 17f6862d-c82a-41f0-b259-9b3bbcc4a460, 0a2ddce9-c6ea-4c21-ab58-7906ba8395f7, 2B91CE48-27F3-491D-89C3-8C096A33B06C, db58903c-20d8-4dac-ac33-158171014604, 0vts2qk0-9wcv-gu3q-l2pp-crqyhq3e6qrx, 43355eb2-0bb6-4cdb-9331-056f67240afb, 77A8B280-15F4-4DC1-B132-83C99862BE0E, 8a9c7f70-c198-4e3b-aac8-6c8bdb148fc3, 8buhjo5i-8eu3-b8cz-bf31-m5l6hrbe5rxl, 07ea52ca-3de7-4b32-8825-b480b271a4f0, Tubify for SoundCloud, 1b82c330-d861-4220-8666-f71cb185ce96, 4higl6p3-lv3q-3d2y-2xwr-orkqc9wnnic8, 544d9a38-c5d5-417a-81bd-fa110635e10e, 2bd3f6cf-c5bb-4656-b929-75b275505156, ...]</td>\n",
       "    </tr>\n",
       "    <tr>\n",
       "      <th>5281</th>\n",
       "      <td>[nan, 7c0d7584-9d9f-47a7-ba8f-823323f6d662, d3ff6912-74c1-44ef-93cb-50c7d4417275, 69d75f9f-3621-4cd3-abe6-63ddf271957b, 5923c8a9-0a98-4589-ba58-2e428d3463d5, bbe6e5e1-74df-4b18-82e0-26586fc112de, e9b70e63-493d-418e-bdb2-ca6f41aed60c, 9de4c7e3-b2a2-4056-a303-219b21993af0, a033574d-9750-45eb-869c-9a3ce4c530f6, 51ea562a-625a-475e-8219-3727917df8c2, eb72f365-4004-453a-9576-32c396d0ccae, 5946a3aa-e88a-44fa-8e8c-a74f4134e7b5, 4113058c-5789-4f04-bb9c-f7574b9148d6, 95397616-cc0c-496a-baf0-b32d92ccc50f, f9a9d571-ce37-49e2-b129-b84352ad1236, 55e0a36b-00db-454b-9156-c894e6171cd4, a714948e-ae1f-4f21-8cc3-5c957fab80b7, 45689fa1-e4da-49ec-ab5a-cb3cb4b99676]</td>\n",
       "    </tr>\n",
       "    <tr>\n",
       "      <th>6102</th>\n",
       "      <td>[6f9eb061-adc5-456a-b3be-06cc11d47e15, eb219e11-8483-4275-ae7d-98f5e083eca9, e591f964-e467-4b3b-ae21-577b4a2ff2f5, 38251451-24de-4971-bd39-3ea963b365de, dba3bcfd-d4a1-4581-8066-2d056620e368, 2e692a52-bc8a-439e-a3d8-47fd40ed8793, 1fdd87d2-ba0c-4038-9b76-51d0ebb318fe, 1b14353c-6913-4f29-a423-4fd0548bf463, 7fa67fcd-8417-4d79-b81b-4cfd58b70651, 4bdb6f42-c82c-4275-b551-6aedfbe81765, 85465a67-b123-410f-b04f-cba2258ce39c, be640654-5213-421e-b599-867b8771409e, fbd90f34-5809-47ce-a638-8efba1b407fb, 2e56adf1-c29a-431f-84f1-0e987c347861, 35530601-3e0a-4bf1-975e-90c04a52ecdb, 83221f0f-f609-428a-84e2-81c9c3fa52ac, 5713f939-3dfd-4877-a074-768573595b74, 707d61d2-9653-4e94-926b-9c5dc372fa17, cde3b677-07a0-4473-9480-e2a0e52aed46, 1a90bee5-0930-4ce8-b467-27e234fc280e, b9e48c7d-da0b-42a9-a81a-f1aa00d52c55, 927d2143-4eb5-4b8e-892e-7a01216122bd, a720636f-6fe1-482f-abfe-4cbf9dccba02, bd20cdac-d368-4f29-98ad-1aed8e0f277f, 9b321577-e3c7-48a7-8d56-85265a489b5a, e00df69f-7fdd-4c76-b2d6-4043be1e7ab2, eb50d8d6-5971-46bc-a067-cb1e4c45cbdd, 8179ef4d-a352-4839-9d14-962bba688adb, 32ba7ae2-b2c0-4b29-8789-2da53ae7d575, aa3b166c-7c53-402c-95a7-bd20e3074b76, 736aeb6f-65e5-4f84-90d4-fc87cb4629ec, 83baffac-60fd-4606-9ac1-64db91377d8d, f3515db4-50b7-446a-a806-e461223ea3df, a6c29b02-9982-41d0-9b60-a8c7a9974c65, be9f1003-b719-4556-930c-804ed2c02b23, abc85cfa-1fe9-4cdc-8943-7ea9122f93ea, 367b1774-0337-4fb9-a6bc-82e945652b63, 972adf60-c679-488a-97c9-aeda1bb082e2, cc1c87ec-4098-48eb-9c75-9d502ec4b316, 66770fc4-c47c-4383-844c-51e12a9bae84, b88095ca-280c-415e-b30e-0c807b0faac6, bed6e9f6-2c91-4c34-b4ae-c1bb998bd23e, faffffb3-a022-456a-ac6e-7c35d44a4402, 86b44a10-93b5-49ac-bb58-19083758e40e, 7227c87a-da66-4f89-a7d2-fd9c40e3d245, 9347b1d8-4924-4f31-8b4d-b609469b89ea, 714024d7-2040-45a1-8b68-64bb2621f3b2, aab1b53a-9ee0-46ca-9d05-aa91fc69411c, d436cd2c-620e-4c4b-80d0-00236b191c79, 873de5cc-7d8c-4840-9c6c-8f301adcb824, ec07339a-f135-4a62-888b-9708d29918c9, 6b767cf9-e0bf-4e36-babb-ca514ce2e23a, 9dcf53cd-2b1b-423c-82a4-52b8c5adf987, 0e775f14-93aa-4edb-b4e3-cb3b655d7eb7, 5e0988c6-571c-4e8d-903a-4317345d89e4, e72b2feb-e763-4683-87d9-ee89fd8f7c51, 9503742d-16f4-4c04-b5d7-25ad78964cc6, 9ce4e3a1-9e48-4096-8acb-38452dfc6395, fd1992ac-7dea-4bf7-84e0-639d6b00ffd9, abe1229b-4056-463c-b3d1-63ed03ca208c, f8171d0f-f7dd-4c0d-b6d1-f05b063ca590, 5b1d222d-6f14-4020-aa3f-f8a99f8119f4, 5531ce84-64c2-4dde-9b2d-99888ff426c8, e4707ee0-c432-428d-806d-4c362ebbc928, 587ca665-b244-4c61-808e-413f14ef026a, 35c98ca4-52ad-49a6-928e-41455c6bbdc2, 7ed6ae02-62dd-4aab-b3f0-8f7cda0160f3, 99b2b09b-fdce-442f-9f41-08e5b3f60064, 129fa8f2-9518-41a7-8794-423557b1c148, 564fbcd1-9b1c-4bb2-bef9-0a7b051d5915, 461404c4-00a7-4661-ae0d-10f3292334a0, 6d82e213-e3d5-4d9d-acff-429021169857, aa8df8fb-9feb-4cbc-9c21-1d17d9a51ff2, ae34757e-e18f-4703-876a-be60bec6cbb2, a233f6aa-66ff-40c8-8f74-cbe5ce4d3bea, 8efcc426-4048-4a11-94ed-bcfcae3f1213, 59ccac6b-4812-4f2b-8aab-4c073a1cab42, e6137bb1-24ca-4b0a-bbb0-943f3b0243f0, 6000fe89-fb01-4305-b9aa-7e25f9298bda, 1e9a38b7-7428-4ece-bc04-66ae8990e46f, 7140779f-5d05-4a48-8126-fcd55c64ef0d, cf010a3f-23e4-4062-85d8-32e0a3771eba, 1be2c6b4-0a92-4176-9140-9ef339588eb2, e14e2af6-7426-4bc0-b437-22c9bd4a1d2b, 5d8202bc-299a-409c-a78a-11445d939c31, 638090d9-a491-461f-8adc-abc1d2e6a211, 4e41f2d6-567a-40e7-8490-ff234732dd5d, 110cbf2a-e4d5-46bd-a98f-5de1503481de, c91e5929-65db-4f8a-a4d0-263fea8c0d54, 2d4e8045-9a3b-4be9-b3e9-765e4c32dca4, 96c48b5c-ab6a-4fb7-a837-dadfa78da205, fb5ac539-47e0-4345-9bee-f957ee8fdab1, 833b650b-28bf-49af-84c0-4eed23b5ddec, f29f33a7-a8a1-44f3-857f-1c93ca578016, eff6c6be-0b6f-4c9e-8fa2-8a9a7a072824, b5632d17-42b4-4a9c-843f-a2e6b086b53b, 5c9e7e9b-7d97-4347-947e-e3e7cf3a881e, 0463ee2f-8a52-4851-a294-aef2cfbd3fa8, 6319afa2-dd0f-4d86-a4c4-859c3258bf3b, 52531647-b418-4841-a28b-c5b1f7217fb7, ...]</td>\n",
       "    </tr>\n",
       "    <tr>\n",
       "      <th>6380</th>\n",
       "      <td>[nan]</td>\n",
       "    </tr>\n",
       "    <tr>\n",
       "      <th>6489</th>\n",
       "      <td>[b10ff84e-2ef5-4d71-bdc2-d86fded13aed, nan, 2455a33e-0245-4aae-a0c0-372c3f4e75b8, 642630e3-0202-435f-b579-82cd413aa954]</td>\n",
       "    </tr>\n",
       "    <tr>\n",
       "      <th>6507</th>\n",
       "      <td>[bdb47f02-8770-48fc-8a08-4b7870d683e5]</td>\n",
       "    </tr>\n",
       "    <tr>\n",
       "      <th>6651</th>\n",
       "      <td>[18d37241-4dba-4272-bb0a-e003b868490a, 71d30a8b-fe56-48e6-bb7b-dde5f6f3a924, 91cbe523-aefa-4d83-a060-a144401a1035, ae848467-154e-4fb3-a18c-cd1caad4b684, d093eb6d-4e82-43d5-a427-035733f2a36c, 79bc666c-78d9-4f95-ba92-0036019c3e0b, ec81d243-e192-4cf7-b70a-57d8a42d5b65, a1f5d939-656d-4fdf-bc58-71c3af75509f, b8e3d378-0ee1-48b9-a62a-e7749428f645, 29f439ee-02dd-4b44-99e2-39dfebef1e86, c4a0b499-1fc2-4014-87f5-6775cabe9ca7, 6262ec5a-cca0-4a5c-b7e4-5f70cdc9e233, 9b46d2b8-e18b-48e6-acbf-db7bfa29c56d, 98f7c4fd-d57b-4529-8753-2eabaf6f16eb, f320c16f-bbba-43e7-9bfc-8d8412000f9d, 55867a5f-048e-40da-bacd-a0b1c0192087, 35ce04cb-daa3-4c9d-acea-afbf6fb0c5f8, a9c0d9c2-e43a-4803-8319-124aa680291f, e6822f9d-3017-4b49-80ce-33e64859ec43, 99d1a337-b86d-4db3-ba12-660e965c529f, f11faf52-9887-4da9-95d1-628ce0e9a554, e1f5e9da-ae37-4819-a3c1-ed2c5c9e69cc, 8e7524ee-eba5-4a53-abad-e408c4dc1b8b, 8813608c-7975-41a9-aab2-598ac9f49134, 7e75897f-8a3b-4034-a7fb-c562ba229b9a, 9ed21b78-ec5f-4508-95ea-c864f46f68bc, b4a1af9d-bfe8-4fee-b6a2-6dd7e41ffb4a, de1f88ea-73ff-4d88-b1d1-0e0e14015fdb, 9035a847-8a21-4a8b-8eb3-af80ea1d0e0e, d9ad5401-9593-4d00-8bbd-ede937d04565, e4376f98-6144-43ec-8e6e-906da744f2a0, d3b84db1-22f8-4ef7-95b1-9fd45390e128, b0323419-6d1f-4db2-b0bc-ecb5b78d2bd3, 0cd50189-0d10-4541-8e6e-ac9565911bc0, 6fc2573f-ab20-47fb-ac93-55572a8d0a49, 87fd5344-623d-4f9d-98b1-134e0448ab7d, 8a9ccb69-3d86-4f9b-afd2-54be3f28df81, 208a6478-4f85-4951-888d-dabaf8171db5, 8a33e44d-bb15-48f0-95e3-43f6387ba916, e38f0425-9048-46f4-a8db-5be694a7a5e9, 0ebeae62-fc53-4d39-9e7c-21f2fd3093fc, nan, de2fede8-efe6-40dd-9689-b71ec987ae3d, 7dda8cb7-5cf8-4813-a975-84a22a094632, 77f93456-91af-431d-90e3-dc1c536999a4, ee55397d-8c11-4839-ba14-bfa0d55cf95f, 8284284b-e481-4ebc-8d91-df3aeeb71137, 39af73bf-4e64-41c8-b9d5-df19747e9387, a68a2fce-d0f8-4819-91c9-7364b156c8bd, 30940182-eb7c-47b7-983c-a0436b65e824, 5cf13029-5404-4c99-b322-e95f250b27f8, ae6b7021-0a7d-40bc-ae3b-6aff77764375, fa208e39-c2a8-4f8e-aab3-a1e963736680, 09100b2a-79bd-4544-b7fe-7d5f27c690b9, c88847af-78d5-4066-be4e-8d284763e5c4, 53389dc3-0ee5-4a55-aede-3c684803b4db, 4d8401fe-9b21-41c3-955a-1791293278c7, 5d056002-d31e-4aaf-80f8-a794b7d8429b, 6ddaa6cc-de08-4128-acdf-92f52b53f50f, 1dfb2c1c-a137-48b2-9420-c9abf78b1654, b1c53fb2-e605-43cd-9b51-82d6eda2a48d, 228f5999-ec95-4d42-a305-50e76a60f941, c30ee569-1a90-41f5-b1d1-e2f183049346, d180fea1-d338-4567-9b97-15dbccd290d0, aa14f776-ac03-4c5e-a197-d26fa5b0f200, 63e5b1db-e7a9-4f24-b3b1-9d31a2889039, fe4d5664-f3d1-4f45-858d-cdaea8b90676, adfdd24d-27a6-4fdd-a05f-497c24cbf143, 0f592a9b-3e8e-4c80-a0a3-a76964b53c06, 0e35a341-17e2-4e90-87c8-353b71640cfe, a82299e3-7c46-4bb6-9695-e04e79fd5ffe, 77f08b6f-6d51-426a-80e0-8c071592e3c4, 9342564c-e5af-4c1e-a6a7-6a421f801e3f, 1fcb4e87-a0eb-4cdd-96f9-9d864b92ccd8, 1626c16f-7229-4ef4-a91e-a609da2ca248, 31646fb8-14a2-40a1-a94d-b43743229ddf, e28bd269-f7c1-4901-9729-b09f930024e1, 2edfc2e4-7e6b-4d6d-ac23-b6981ae3f80d, c5ef1d54-8a97-478d-851e-382894fecbdc, bb8d69de-5b45-477c-ab8d-65e5b890bc19, 643f8a6c-3685-4edb-8171-4407bf8c4e7b, e6f390ae-bb6c-4582-be20-d4af75030bee, 7d46bc5b-c86e-42be-853e-5ff320339ae5, b7776473-cdc1-4ce5-944b-b8467ab430a8, 8bb9d256-f2b1-4b71-90ff-927db94037b2, 269be3b2-4233-42a1-b57a-9cc7e4154685, d1416f9d-02ac-44b7-ae6f-6e5aed32af6f, 0ed3f0a9-3357-4aac-a89e-f21ab24ee56d, d0b257ca-abd1-4088-9aa8-5259a095a582, 97c1f21a-106b-47b0-bdb5-cdd8559f9de1, d42f5b47-1fa9-445d-9297-613fd1a8de1d, 151ddc17-94b0-4ddf-837d-135fd9d54bd6, 5d23e9f6-30f9-4294-9fbf-88261ac70bd9, f48037c0-67d5-4107-906a-323b2372ef2a, 7ece09eb-fab6-412c-a2a6-ebe284c1e530, 829538e3-ebcd-4dc0-8a33-4e82638ed762, 0a48fd63-9721-4cd1-a025-b55667756469, 8dbed44b-3627-4486-8a34-988b1a1b7076, cb265f31-ddfc-4c16-af82-0076690c2bce, 1e71fcb5-7c89-4cef-82ed-b1fe59cf2d27, ...]</td>\n",
       "    </tr>\n",
       "  </tbody>\n",
       "</table>\n",
       "</div>"
      ],
      "text/plain": [
       "                                                                                                                                                                                                                                                                                                                                                                                                                                                                                                                                                                                                                                                                                                                                                                                                                                                                                                                                                                                                                                                                                                                                                                                                                                                                                                                                                                                                                                                                                                                                                                                                                                                                                                                                                                                                                                                                                                                                                                                                                                                                                                                                                                                                                                                                                                                                                                                                                                                                                                                                                                                                                                                                                                                                                                                                                                                                                                                                                                                                                                                                                                                                                                                                                                                                                                                                                                                                                                                                                                                                                                                                                                                                                                                                                                                                                                                                                                                                                                 google_aid\n",
       "affiliate_id                                                                                                                                                                                                                                                                                                                                                                                                                                                                                                                                                                                                                                                                                                                                                                                                                                                                                                                                                                                                                                                                                                                                                                                                                                                                                                                                                                                                                                                                                                                                                                                                                                                                                                                                                                                                                                                                                                                                                                                                                                                                                                                                                                                                                                                                                                                                                                                                                                                                                                                                                                                                                                                                                                                                                                                                                                                                                                                                                                                                                                                                                                                                                                                                                                                                                                                                                                                                                                                                                                                                                                                                                                                                                                                                                                                                                                                                                                                                                               \n",
       "1914          [96a31720-931e-46a6-aad1-9f08e6ad27bd, fda7ddff-bfeb-4f15-9b1c-aaa9d4686652, 79d3faad-457e-451a-b907-8bbcc648b86a, 99f9fd76-3220-4529-952a-9fed45bee011, 7c484eed-7ff0-4128-b9c7-615dec263f6f, d187c171-1d18-461c-b13e-10d11403d6df, d8ac382f-4fd7-46c5-9426-4430053f6c94, 02a5dcc7-52c0-4c35-8d88-1f308b7dff4e, 6593db45-58a4-4d44-b516-0949835e6b6a, 033fbe3f-99bd-45bb-8502-a68388c28fba, 86182392-a4f3-44e6-92d2-e74eaa6883e5, b4023a7a-c323-475f-94c7-a5771fa5590a, b1b6bfcc-c4fc-43d1-bfd0-01fb95ea7d42, 35481f0d-a69d-4111-a837-ea5fb37a240a, 90edeb30-9a40-4513-a0b2-80ce754b3afb, 719e8600-cd09-4068-8398-a880acdb7ad0, d4191f97-f18e-4bbd-895d-108f325e217c, 81f81575-d0cd-4720-8913-263324d966a6, 57402944-543d-4886-99b2-a2473c987cf7]                                                                                                                                                                                                                                                                                                                                                                                                                                                                                                                                                                                                                                                                                                                                                                                                                                                                                                                                                                                                                                                                                                                                                                                                                                                                                                                                                                                                                                                                                                                                                                                                                                                                                                                                                                                                                                                                                                                                                                                                                                                                                                                                                                                                                                                                                                                                                                                                                                                                                                                                                                                                                                                                                                                                                                                                                                                                                                                                                                                                                                                                                                                                                                                                           \n",
       "2882          [nan, D2316D28-01BD-47A1-B27A-6B210E7B555D, Musi - Unlimited Free Music From YouTube (FREE App Download), {tp_aaid}, 1855862F-5D74-4D46-A06C-1493729CF85E, 00000000-0000-0000-0000-000000000000, og7p60oe-bvi8-7t4k-0egy-h9fiflp99me5, 40402597-3111-4EC9-9485-90905C346702, E78E34A6-AF8A-47BE-A732-230FCAC0E6F2, 5ba4ed58-af53-4d55-a105-d1a9437f6b6a, aff_sub3, [idfa], CONVX-0109, $IDFA, 6bca2959-70b3-4db2-bc70-945540d590c1, DB2F2F51-2DAA-4EA9-BDB2-690EF80BAEE0, CA6AF176-2A48-466D-BDD8-013EC54FB009, undefined, eqbax0uf-fmrb-wkgx-705m-9fy2bnigqhpy, A601739D-360F-4FE9-87B9-0050E9F1BBFE, C11A3D96-BBBB-4AA1-A761-F6EBE78DE4D8, 6BA835FF-BE4E-4638-8721-B4E555438F36, 27de7874-b852-4c6a-ad66-1da698171f78]                                                                                                                                                                                                                                                                                                                                                                                                                                                                                                                                                                                                                                                                                                                                                                                                                                                                                                                                                                                                                                                                                                                                                                                                                                                                                                                                                                                                                                                                                                                                                                                                                                                                                                                                                                                                                                                                                                                                                                                                                                                                                                                                                                                                                                                                                                                                                                                                                                                                                                                                                                                                                                                                                                                                                                                                                                                                                                                                                                                                                                                                                                                                                                                                                                     \n",
       "4575          [nan]                                                                                                                                                                                                                                                                                                                                                                                                                                                                                                                                                                                                                                                                                                                                                                                                                                                                                                                                                                                                                                                                                                                                                                                                                                                                                                                                                                                                                                                                                                                                                                                                                                                                                                                                                                                                                                                                                                                                                                                                                                                                                                                                                                                                                                                                                                                                                                                                                                                                                                                                                                                                                                                                                                                                                                                                                                                                                                                                                                                                                                                                                                                                                                                                                                                                                                                                                                                                                                                                                                                                                                                                                                                                                                                                                                                                                                                                                                                                                        \n",
       "5087          [nan, b6066183a9cb4b8eb68ac6ea03ff8944, e7cc008b-2696-4018-ace9-c0d0bccf5ba3, MeetMe - Chat and Meet New People, {tp_aaid}, Musi - Unlimited Free Music From YouTube (FREE App Download), undefined, 705dc464-e6ed-48f9-a698-be1c8d6c9db9, 0qa9l8u6-gook-qp60-nzve-nf5ua3zj07cr, [gaid], Musi - Unlimited Music For YouTube, iVideo for Youtube, 205F3A23-03BF-4A9D-997A-4A30255311C0, mb9wtrfy-2a3w-d1mj-9jm5-qr0q0iw6tou4, 31BCAF32-0D19-442D-A924-26D3857ADCE9, efaa91bfb872480b8b7cadbc9a127e08, 88f8dc6b-2c47-4ce8-909a-dfb702a06359, 553476C0-287D-44F3-AAA5-BB28DE9AC962, B1DDBCF2F2635419710BD0D822D1D639, 665889B4-DE89-4A39-819C-67E694297C8E, $IDFA, DCFC7F66-3A27-4528-B445-20F4901EE0D5, dd7b76b6-81f0-4508-aca3-cae91a88a5b5, 1DAE8CB5-C874-40C3-B7EE-D050D72711CF, 54AC85DB-1D3F-4D37-8ABA-B95AD0AD0C6D, NetTube for Youtube, 42fllqmj-3k0y-0w2u-fxe9-t1nm6xa5nnhr, ECE208CA-3D40-4637-B4C4-519C2681389D, 1f73f7392ae7423c9dd13c1271be8c01, 8mpr5og6-6b36-pk4g-m1ve-enkghsfpl7k1, znrf76j5-gk4u-xo85-03gi-4nxj3nci42tx, 1qf2udnl-pmxd-rc7d-4mu1-v0dxtqbm8kb8, 7CD90512-9C16-4600-BD50-4AC2D149DC99, 318D1A7A-F1B8-45B9-8FF7-3B569050CC5C, aff_sub3, 317ead63-84db-48ac-af49-1fbe6400112d, zja5e80u-j9jt-fr5j-8xpv-3qthbymbcl1p, zl56nitm-ow3y-3i9m-via7-cyrvexmu9b9s, ea18e27c-4318-4307-8bd0-7bcdc1f02604, 1ec8dc70-e90e-4df0-87aa-a54deb345e97, cabee550-f36f-45b5-b69e-13925c542537, {gaid}, 8CBBA558-C4EC-4829-A90F-83B3ABA56888, idfa, 075a8402-5255-4e5d-b55f-83d41318a194, 423FF212-C0F0-42DE-A5DF-0E53AF6577D7, 26f29dcf-0582-4336-9d98-4513585ee24d, 00000000-0000-0000-0000-000000000000, 3ae2f909-8139-45fb-8f13-a291015a9f7e, 1FA08B03-D015-4280-872C-3702350E48D1, 7B443C79-87DC-489F-8F82-15F751CA0553, aad57f2e-1ba8-4e60-a7fe-badbc790edfc, [idfa], agltb3B1Yi1pbmNyDAsSA0FwcBixpIYUDA, f870ea31-a2da-4a2c-91a9-16691805b70f, hk41qyp2-aq9b-gq5u-e931-p7353eddxfvf, b9bf2c18-3527-42cf-b641-f587952502c8, v10coegp-uccy-kpbb-delq-ngrzhvk0pb22, 9408F3D5-1169-4754-8C4C-51E99CE88017, 7fw35dt4-s9ef-oi51-1z7v-boo0e17xw2c3, 64bb35f7-a9fa-4f22-a9c4-665abc2ee2de, 4827c014-d259-42eb-8fc2-2fe04c996f3d, 79e7d792-c4c3-4fb6-86b7-a32fc24b1af8, es9liker-2va2-cem2-h5qx-k12lgjw1fd3j, D03BCC94-09F4-42B4-A1C8-42ED82C1A784, DA7D054C-9EB8-414D-8412-90E18D5782BC, 85eec426-5ea2-4d2a-95fe-9cacb91b7240, 46B89D38-F66C-417B-B1D6-F0A3004163F0, dd9cd2c3-5eb0-41d6-95a4-6028c1eb4504, 2h53mhxf-0jz4-jjkh-fdnq-a0ppvpsj1ula, 951A3CDE-993F-45B9-9E81-BD71D82265FA, 1855862F-5D74-4D46-A06C-1493729CF85E, 9C7DBD63-4A96-4D36-8724-DA0875321C52, adc2e7bc-fb68-467b-b2ac-eb8a4b595c58, kk2ssc4p-hj4j-ea4l-36yi-333cfcuhcs7f, 2a090873-b2bc-4c5a-b289-973c03b7940d, E15A85BE-B8DB-4115-A738-2D0564B44104, 6cba735e-4838-424f-8271-c8c004d4374c, 699ED055-2BD3-42B1-BFBA-42A12EBCDFEF, 4a5fd09f-3d8d-4c61-ae0e-e87767bf5efb, DA3A46DC-E8DD-4810-A967-965F8C9DD753, w53jbk40-hn8u-gw8i-vkej-cxykvgg93dzi, E5BCE605-4C3A-8EED-0837-2BDF6CE35727, c5b2191b-d8c7-4840-b810-1e67774df3d7, 26DDF0E1-3273-4029-BC71-9A4AD737BDAC, 17f6862d-c82a-41f0-b259-9b3bbcc4a460, 0a2ddce9-c6ea-4c21-ab58-7906ba8395f7, 2B91CE48-27F3-491D-89C3-8C096A33B06C, db58903c-20d8-4dac-ac33-158171014604, 0vts2qk0-9wcv-gu3q-l2pp-crqyhq3e6qrx, 43355eb2-0bb6-4cdb-9331-056f67240afb, 77A8B280-15F4-4DC1-B132-83C99862BE0E, 8a9c7f70-c198-4e3b-aac8-6c8bdb148fc3, 8buhjo5i-8eu3-b8cz-bf31-m5l6hrbe5rxl, 07ea52ca-3de7-4b32-8825-b480b271a4f0, Tubify for SoundCloud, 1b82c330-d861-4220-8666-f71cb185ce96, 4higl6p3-lv3q-3d2y-2xwr-orkqc9wnnic8, 544d9a38-c5d5-417a-81bd-fa110635e10e, 2bd3f6cf-c5bb-4656-b929-75b275505156, ...]                                                                                                                                                                                                                                                                                                                             \n",
       "5281          [nan, 7c0d7584-9d9f-47a7-ba8f-823323f6d662, d3ff6912-74c1-44ef-93cb-50c7d4417275, 69d75f9f-3621-4cd3-abe6-63ddf271957b, 5923c8a9-0a98-4589-ba58-2e428d3463d5, bbe6e5e1-74df-4b18-82e0-26586fc112de, e9b70e63-493d-418e-bdb2-ca6f41aed60c, 9de4c7e3-b2a2-4056-a303-219b21993af0, a033574d-9750-45eb-869c-9a3ce4c530f6, 51ea562a-625a-475e-8219-3727917df8c2, eb72f365-4004-453a-9576-32c396d0ccae, 5946a3aa-e88a-44fa-8e8c-a74f4134e7b5, 4113058c-5789-4f04-bb9c-f7574b9148d6, 95397616-cc0c-496a-baf0-b32d92ccc50f, f9a9d571-ce37-49e2-b129-b84352ad1236, 55e0a36b-00db-454b-9156-c894e6171cd4, a714948e-ae1f-4f21-8cc3-5c957fab80b7, 45689fa1-e4da-49ec-ab5a-cb3cb4b99676]                                                                                                                                                                                                                                                                                                                                                                                                                                                                                                                                                                                                                                                                                                                                                                                                                                                                                                                                                                                                                                                                                                                                                                                                                                                                                                                                                                                                                                                                                                                                                                                                                                                                                                                                                                                                                                                                                                                                                                                                                                                                                                                                                                                                                                                                                                                                                                                                                                                                                                                                                                                                                                                                                                                                                                                                                                                                                                                                                                                                                                                                                                                                                                                                                                                                                  \n",
       "6102          [6f9eb061-adc5-456a-b3be-06cc11d47e15, eb219e11-8483-4275-ae7d-98f5e083eca9, e591f964-e467-4b3b-ae21-577b4a2ff2f5, 38251451-24de-4971-bd39-3ea963b365de, dba3bcfd-d4a1-4581-8066-2d056620e368, 2e692a52-bc8a-439e-a3d8-47fd40ed8793, 1fdd87d2-ba0c-4038-9b76-51d0ebb318fe, 1b14353c-6913-4f29-a423-4fd0548bf463, 7fa67fcd-8417-4d79-b81b-4cfd58b70651, 4bdb6f42-c82c-4275-b551-6aedfbe81765, 85465a67-b123-410f-b04f-cba2258ce39c, be640654-5213-421e-b599-867b8771409e, fbd90f34-5809-47ce-a638-8efba1b407fb, 2e56adf1-c29a-431f-84f1-0e987c347861, 35530601-3e0a-4bf1-975e-90c04a52ecdb, 83221f0f-f609-428a-84e2-81c9c3fa52ac, 5713f939-3dfd-4877-a074-768573595b74, 707d61d2-9653-4e94-926b-9c5dc372fa17, cde3b677-07a0-4473-9480-e2a0e52aed46, 1a90bee5-0930-4ce8-b467-27e234fc280e, b9e48c7d-da0b-42a9-a81a-f1aa00d52c55, 927d2143-4eb5-4b8e-892e-7a01216122bd, a720636f-6fe1-482f-abfe-4cbf9dccba02, bd20cdac-d368-4f29-98ad-1aed8e0f277f, 9b321577-e3c7-48a7-8d56-85265a489b5a, e00df69f-7fdd-4c76-b2d6-4043be1e7ab2, eb50d8d6-5971-46bc-a067-cb1e4c45cbdd, 8179ef4d-a352-4839-9d14-962bba688adb, 32ba7ae2-b2c0-4b29-8789-2da53ae7d575, aa3b166c-7c53-402c-95a7-bd20e3074b76, 736aeb6f-65e5-4f84-90d4-fc87cb4629ec, 83baffac-60fd-4606-9ac1-64db91377d8d, f3515db4-50b7-446a-a806-e461223ea3df, a6c29b02-9982-41d0-9b60-a8c7a9974c65, be9f1003-b719-4556-930c-804ed2c02b23, abc85cfa-1fe9-4cdc-8943-7ea9122f93ea, 367b1774-0337-4fb9-a6bc-82e945652b63, 972adf60-c679-488a-97c9-aeda1bb082e2, cc1c87ec-4098-48eb-9c75-9d502ec4b316, 66770fc4-c47c-4383-844c-51e12a9bae84, b88095ca-280c-415e-b30e-0c807b0faac6, bed6e9f6-2c91-4c34-b4ae-c1bb998bd23e, faffffb3-a022-456a-ac6e-7c35d44a4402, 86b44a10-93b5-49ac-bb58-19083758e40e, 7227c87a-da66-4f89-a7d2-fd9c40e3d245, 9347b1d8-4924-4f31-8b4d-b609469b89ea, 714024d7-2040-45a1-8b68-64bb2621f3b2, aab1b53a-9ee0-46ca-9d05-aa91fc69411c, d436cd2c-620e-4c4b-80d0-00236b191c79, 873de5cc-7d8c-4840-9c6c-8f301adcb824, ec07339a-f135-4a62-888b-9708d29918c9, 6b767cf9-e0bf-4e36-babb-ca514ce2e23a, 9dcf53cd-2b1b-423c-82a4-52b8c5adf987, 0e775f14-93aa-4edb-b4e3-cb3b655d7eb7, 5e0988c6-571c-4e8d-903a-4317345d89e4, e72b2feb-e763-4683-87d9-ee89fd8f7c51, 9503742d-16f4-4c04-b5d7-25ad78964cc6, 9ce4e3a1-9e48-4096-8acb-38452dfc6395, fd1992ac-7dea-4bf7-84e0-639d6b00ffd9, abe1229b-4056-463c-b3d1-63ed03ca208c, f8171d0f-f7dd-4c0d-b6d1-f05b063ca590, 5b1d222d-6f14-4020-aa3f-f8a99f8119f4, 5531ce84-64c2-4dde-9b2d-99888ff426c8, e4707ee0-c432-428d-806d-4c362ebbc928, 587ca665-b244-4c61-808e-413f14ef026a, 35c98ca4-52ad-49a6-928e-41455c6bbdc2, 7ed6ae02-62dd-4aab-b3f0-8f7cda0160f3, 99b2b09b-fdce-442f-9f41-08e5b3f60064, 129fa8f2-9518-41a7-8794-423557b1c148, 564fbcd1-9b1c-4bb2-bef9-0a7b051d5915, 461404c4-00a7-4661-ae0d-10f3292334a0, 6d82e213-e3d5-4d9d-acff-429021169857, aa8df8fb-9feb-4cbc-9c21-1d17d9a51ff2, ae34757e-e18f-4703-876a-be60bec6cbb2, a233f6aa-66ff-40c8-8f74-cbe5ce4d3bea, 8efcc426-4048-4a11-94ed-bcfcae3f1213, 59ccac6b-4812-4f2b-8aab-4c073a1cab42, e6137bb1-24ca-4b0a-bbb0-943f3b0243f0, 6000fe89-fb01-4305-b9aa-7e25f9298bda, 1e9a38b7-7428-4ece-bc04-66ae8990e46f, 7140779f-5d05-4a48-8126-fcd55c64ef0d, cf010a3f-23e4-4062-85d8-32e0a3771eba, 1be2c6b4-0a92-4176-9140-9ef339588eb2, e14e2af6-7426-4bc0-b437-22c9bd4a1d2b, 5d8202bc-299a-409c-a78a-11445d939c31, 638090d9-a491-461f-8adc-abc1d2e6a211, 4e41f2d6-567a-40e7-8490-ff234732dd5d, 110cbf2a-e4d5-46bd-a98f-5de1503481de, c91e5929-65db-4f8a-a4d0-263fea8c0d54, 2d4e8045-9a3b-4be9-b3e9-765e4c32dca4, 96c48b5c-ab6a-4fb7-a837-dadfa78da205, fb5ac539-47e0-4345-9bee-f957ee8fdab1, 833b650b-28bf-49af-84c0-4eed23b5ddec, f29f33a7-a8a1-44f3-857f-1c93ca578016, eff6c6be-0b6f-4c9e-8fa2-8a9a7a072824, b5632d17-42b4-4a9c-843f-a2e6b086b53b, 5c9e7e9b-7d97-4347-947e-e3e7cf3a881e, 0463ee2f-8a52-4851-a294-aef2cfbd3fa8, 6319afa2-dd0f-4d86-a4c4-859c3258bf3b, 52531647-b418-4841-a28b-c5b1f7217fb7, ...]\n",
       "6380          [nan]                                                                                                                                                                                                                                                                                                                                                                                                                                                                                                                                                                                                                                                                                                                                                                                                                                                                                                                                                                                                                                                                                                                                                                                                                                                                                                                                                                                                                                                                                                                                                                                                                                                                                                                                                                                                                                                                                                                                                                                                                                                                                                                                                                                                                                                                                                                                                                                                                                                                                                                                                                                                                                                                                                                                                                                                                                                                                                                                                                                                                                                                                                                                                                                                                                                                                                                                                                                                                                                                                                                                                                                                                                                                                                                                                                                                                                                                                                                                                        \n",
       "6489          [b10ff84e-2ef5-4d71-bdc2-d86fded13aed, nan, 2455a33e-0245-4aae-a0c0-372c3f4e75b8, 642630e3-0202-435f-b579-82cd413aa954]                                                                                                                                                                                                                                                                                                                                                                                                                                                                                                                                                                                                                                                                                                                                                                                                                                                                                                                                                                                                                                                                                                                                                                                                                                                                                                                                                                                                                                                                                                                                                                                                                                                                                                                                                                                                                                                                                                                                                                                                                                                                                                                                                                                                                                                                                                                                                                                                                                                                                                                                                                                                                                                                                                                                                                                                                                                                                                                                                                                                                                                                                                                                                                                                                                                                                                                                                                                                                                                                                                                                                                                                                                                                                                                                                                                                                                      \n",
       "6507          [bdb47f02-8770-48fc-8a08-4b7870d683e5]                                                                                                                                                                                                                                                                                                                                                                                                                                                                                                                                                                                                                                                                                                                                                                                                                                                                                                                                                                                                                                                                                                                                                                                                                                                                                                                                                                                                                                                                                                                                                                                                                                                                                                                                                                                                                                                                                                                                                                                                                                                                                                                                                                                                                                                                                                                                                                                                                                                                                                                                                                                                                                                                                                                                                                                                                                                                                                                                                                                                                                                                                                                                                                                                                                                                                                                                                                                                                                                                                                                                                                                                                                                                                                                                                                                                                                                                                                                       \n",
       "6651          [18d37241-4dba-4272-bb0a-e003b868490a, 71d30a8b-fe56-48e6-bb7b-dde5f6f3a924, 91cbe523-aefa-4d83-a060-a144401a1035, ae848467-154e-4fb3-a18c-cd1caad4b684, d093eb6d-4e82-43d5-a427-035733f2a36c, 79bc666c-78d9-4f95-ba92-0036019c3e0b, ec81d243-e192-4cf7-b70a-57d8a42d5b65, a1f5d939-656d-4fdf-bc58-71c3af75509f, b8e3d378-0ee1-48b9-a62a-e7749428f645, 29f439ee-02dd-4b44-99e2-39dfebef1e86, c4a0b499-1fc2-4014-87f5-6775cabe9ca7, 6262ec5a-cca0-4a5c-b7e4-5f70cdc9e233, 9b46d2b8-e18b-48e6-acbf-db7bfa29c56d, 98f7c4fd-d57b-4529-8753-2eabaf6f16eb, f320c16f-bbba-43e7-9bfc-8d8412000f9d, 55867a5f-048e-40da-bacd-a0b1c0192087, 35ce04cb-daa3-4c9d-acea-afbf6fb0c5f8, a9c0d9c2-e43a-4803-8319-124aa680291f, e6822f9d-3017-4b49-80ce-33e64859ec43, 99d1a337-b86d-4db3-ba12-660e965c529f, f11faf52-9887-4da9-95d1-628ce0e9a554, e1f5e9da-ae37-4819-a3c1-ed2c5c9e69cc, 8e7524ee-eba5-4a53-abad-e408c4dc1b8b, 8813608c-7975-41a9-aab2-598ac9f49134, 7e75897f-8a3b-4034-a7fb-c562ba229b9a, 9ed21b78-ec5f-4508-95ea-c864f46f68bc, b4a1af9d-bfe8-4fee-b6a2-6dd7e41ffb4a, de1f88ea-73ff-4d88-b1d1-0e0e14015fdb, 9035a847-8a21-4a8b-8eb3-af80ea1d0e0e, d9ad5401-9593-4d00-8bbd-ede937d04565, e4376f98-6144-43ec-8e6e-906da744f2a0, d3b84db1-22f8-4ef7-95b1-9fd45390e128, b0323419-6d1f-4db2-b0bc-ecb5b78d2bd3, 0cd50189-0d10-4541-8e6e-ac9565911bc0, 6fc2573f-ab20-47fb-ac93-55572a8d0a49, 87fd5344-623d-4f9d-98b1-134e0448ab7d, 8a9ccb69-3d86-4f9b-afd2-54be3f28df81, 208a6478-4f85-4951-888d-dabaf8171db5, 8a33e44d-bb15-48f0-95e3-43f6387ba916, e38f0425-9048-46f4-a8db-5be694a7a5e9, 0ebeae62-fc53-4d39-9e7c-21f2fd3093fc, nan, de2fede8-efe6-40dd-9689-b71ec987ae3d, 7dda8cb7-5cf8-4813-a975-84a22a094632, 77f93456-91af-431d-90e3-dc1c536999a4, ee55397d-8c11-4839-ba14-bfa0d55cf95f, 8284284b-e481-4ebc-8d91-df3aeeb71137, 39af73bf-4e64-41c8-b9d5-df19747e9387, a68a2fce-d0f8-4819-91c9-7364b156c8bd, 30940182-eb7c-47b7-983c-a0436b65e824, 5cf13029-5404-4c99-b322-e95f250b27f8, ae6b7021-0a7d-40bc-ae3b-6aff77764375, fa208e39-c2a8-4f8e-aab3-a1e963736680, 09100b2a-79bd-4544-b7fe-7d5f27c690b9, c88847af-78d5-4066-be4e-8d284763e5c4, 53389dc3-0ee5-4a55-aede-3c684803b4db, 4d8401fe-9b21-41c3-955a-1791293278c7, 5d056002-d31e-4aaf-80f8-a794b7d8429b, 6ddaa6cc-de08-4128-acdf-92f52b53f50f, 1dfb2c1c-a137-48b2-9420-c9abf78b1654, b1c53fb2-e605-43cd-9b51-82d6eda2a48d, 228f5999-ec95-4d42-a305-50e76a60f941, c30ee569-1a90-41f5-b1d1-e2f183049346, d180fea1-d338-4567-9b97-15dbccd290d0, aa14f776-ac03-4c5e-a197-d26fa5b0f200, 63e5b1db-e7a9-4f24-b3b1-9d31a2889039, fe4d5664-f3d1-4f45-858d-cdaea8b90676, adfdd24d-27a6-4fdd-a05f-497c24cbf143, 0f592a9b-3e8e-4c80-a0a3-a76964b53c06, 0e35a341-17e2-4e90-87c8-353b71640cfe, a82299e3-7c46-4bb6-9695-e04e79fd5ffe, 77f08b6f-6d51-426a-80e0-8c071592e3c4, 9342564c-e5af-4c1e-a6a7-6a421f801e3f, 1fcb4e87-a0eb-4cdd-96f9-9d864b92ccd8, 1626c16f-7229-4ef4-a91e-a609da2ca248, 31646fb8-14a2-40a1-a94d-b43743229ddf, e28bd269-f7c1-4901-9729-b09f930024e1, 2edfc2e4-7e6b-4d6d-ac23-b6981ae3f80d, c5ef1d54-8a97-478d-851e-382894fecbdc, bb8d69de-5b45-477c-ab8d-65e5b890bc19, 643f8a6c-3685-4edb-8171-4407bf8c4e7b, e6f390ae-bb6c-4582-be20-d4af75030bee, 7d46bc5b-c86e-42be-853e-5ff320339ae5, b7776473-cdc1-4ce5-944b-b8467ab430a8, 8bb9d256-f2b1-4b71-90ff-927db94037b2, 269be3b2-4233-42a1-b57a-9cc7e4154685, d1416f9d-02ac-44b7-ae6f-6e5aed32af6f, 0ed3f0a9-3357-4aac-a89e-f21ab24ee56d, d0b257ca-abd1-4088-9aa8-5259a095a582, 97c1f21a-106b-47b0-bdb5-cdd8559f9de1, d42f5b47-1fa9-445d-9297-613fd1a8de1d, 151ddc17-94b0-4ddf-837d-135fd9d54bd6, 5d23e9f6-30f9-4294-9fbf-88261ac70bd9, f48037c0-67d5-4107-906a-323b2372ef2a, 7ece09eb-fab6-412c-a2a6-ebe284c1e530, 829538e3-ebcd-4dc0-8a33-4e82638ed762, 0a48fd63-9721-4cd1-a025-b55667756469, 8dbed44b-3627-4486-8a34-988b1a1b7076, cb265f31-ddfc-4c16-af82-0076690c2bce, 1e71fcb5-7c89-4cef-82ed-b1fe59cf2d27, ...]                                 "
      ]
     },
     "execution_count": 22,
     "metadata": {},
     "output_type": "execute_result"
    }
   ],
   "source": [
    "# Converting the above dictionary into a DataFrame\n",
    "pd.DataFrame(Unique_Aff_googleAid)"
   ]
  },
  {
   "cell_type": "code",
   "execution_count": 23,
   "metadata": {},
   "outputs": [],
   "source": [
    "# Calculate the total unique values per affiliate_id\n",
    "googleAidUniqueCount = {}\n",
    "for key in Unique_Aff_googleAid.keys():\n",
    "    googleAidUniqueCount[key] = len(Unique_Aff_googleAid.get(key))"
   ]
  },
  {
   "cell_type": "code",
   "execution_count": 24,
   "metadata": {},
   "outputs": [
    {
     "data": {
      "text/plain": [
       "{1914: 19,\n",
       " 2882: 23,\n",
       " 4575: 1,\n",
       " 5087: 208,\n",
       " 5281: 18,\n",
       " 6102: 46188,\n",
       " 6380: 1,\n",
       " 6489: 4,\n",
       " 6507: 1,\n",
       " 6651: 179}"
      ]
     },
     "execution_count": 24,
     "metadata": {},
     "output_type": "execute_result"
    }
   ],
   "source": [
    "googleAidUniqueCount"
   ]
  },
  {
   "cell_type": "code",
   "execution_count": 25,
   "metadata": {},
   "outputs": [],
   "source": [
    "googleAidPlot = pd.Series(googleAidUniqueCount)"
   ]
  },
  {
   "cell_type": "code",
   "execution_count": 26,
   "metadata": {},
   "outputs": [
    {
     "data": {
      "text/plain": [
       "<matplotlib.axes._subplots.AxesSubplot at 0x1c08397bac8>"
      ]
     },
     "execution_count": 26,
     "metadata": {},
     "output_type": "execute_result"
    },
    {
     "data": {
      "image/png": "[encoded data removed]",
      "text/plain": [
       "<matplotlib.figure.Figure at 0x1c0836337b8>"
      ]
     },
     "metadata": {},
     "output_type": "display_data"
    }
   ],
   "source": [
    "googleAidPlot.plot('bar')"
   ]
  },
  {
   "cell_type": "code",
   "execution_count": 27,
   "metadata": {},
   "outputs": [],
   "source": [
    "# Converting the above dictionary into a DataFrame with index as the affiliate_id\n",
    "plottingdf_GoogleAid = pd.DataFrame(list(googleAidUniqueCount.items()), columns=[\"ID\",\"Google_Aid_Count\"], index=googleAidUniqueCount.keys())"
   ]
  },
  {
   "cell_type": "code",
   "execution_count": 28,
   "metadata": {},
   "outputs": [
    {
     "data": {
      "text/html": [
       "<div>\n",
       "<style scoped>\n",
       "    .dataframe tbody tr th:only-of-type {\n",
       "        vertical-align: middle;\n",
       "    }\n",
       "\n",
       "    .dataframe tbody tr th {\n",
       "        vertical-align: top;\n",
       "    }\n",
       "\n",
       "    .dataframe thead th {\n",
       "        text-align: right;\n",
       "    }\n",
       "</style>\n",
       "<table border=\"1\" class=\"dataframe\">\n",
       "  <thead>\n",
       "    <tr style=\"text-align: right;\">\n",
       "      <th></th>\n",
       "      <th>ID</th>\n",
       "      <th>Google_Aid_Count</th>\n",
       "    </tr>\n",
       "  </thead>\n",
       "  <tbody>\n",
       "    <tr>\n",
       "      <th>1914</th>\n",
       "      <td>1914</td>\n",
       "      <td>19</td>\n",
       "    </tr>\n",
       "    <tr>\n",
       "      <th>2882</th>\n",
       "      <td>2882</td>\n",
       "      <td>23</td>\n",
       "    </tr>\n",
       "    <tr>\n",
       "      <th>4575</th>\n",
       "      <td>4575</td>\n",
       "      <td>1</td>\n",
       "    </tr>\n",
       "    <tr>\n",
       "      <th>5087</th>\n",
       "      <td>5087</td>\n",
       "      <td>208</td>\n",
       "    </tr>\n",
       "    <tr>\n",
       "      <th>5281</th>\n",
       "      <td>5281</td>\n",
       "      <td>18</td>\n",
       "    </tr>\n",
       "    <tr>\n",
       "      <th>6102</th>\n",
       "      <td>6102</td>\n",
       "      <td>46188</td>\n",
       "    </tr>\n",
       "    <tr>\n",
       "      <th>6380</th>\n",
       "      <td>6380</td>\n",
       "      <td>1</td>\n",
       "    </tr>\n",
       "    <tr>\n",
       "      <th>6489</th>\n",
       "      <td>6489</td>\n",
       "      <td>4</td>\n",
       "    </tr>\n",
       "    <tr>\n",
       "      <th>6507</th>\n",
       "      <td>6507</td>\n",
       "      <td>1</td>\n",
       "    </tr>\n",
       "    <tr>\n",
       "      <th>6651</th>\n",
       "      <td>6651</td>\n",
       "      <td>179</td>\n",
       "    </tr>\n",
       "  </tbody>\n",
       "</table>\n",
       "</div>"
      ],
      "text/plain": [
       "        ID  Google_Aid_Count\n",
       "1914  1914  19              \n",
       "2882  2882  23              \n",
       "4575  4575  1               \n",
       "5087  5087  208             \n",
       "5281  5281  18              \n",
       "6102  6102  46188           \n",
       "6380  6380  1               \n",
       "6489  6489  4               \n",
       "6507  6507  1               \n",
       "6651  6651  179             "
      ]
     },
     "execution_count": 28,
     "metadata": {},
     "output_type": "execute_result"
    }
   ],
   "source": [
    "plottingdf_GoogleAid"
   ]
  },
  {
   "cell_type": "code",
   "execution_count": 29,
   "metadata": {},
   "outputs": [],
   "source": [
    "# Merging the two dataframes - plottingdf_GoogleAid and plottingdf_iosIfa on affiliate_id(ID) \n",
    "resultdf = pd.merge(plottingdf_GoogleAid, plottingdf_iosIfa, on = 'ID')"
   ]
  },
  {
   "cell_type": "code",
   "execution_count": 30,
   "metadata": {},
   "outputs": [
    {
     "data": {
      "text/html": [
       "<div>\n",
       "<style scoped>\n",
       "    .dataframe tbody tr th:only-of-type {\n",
       "        vertical-align: middle;\n",
       "    }\n",
       "\n",
       "    .dataframe tbody tr th {\n",
       "        vertical-align: top;\n",
       "    }\n",
       "\n",
       "    .dataframe thead th {\n",
       "        text-align: right;\n",
       "    }\n",
       "</style>\n",
       "<table border=\"1\" class=\"dataframe\">\n",
       "  <thead>\n",
       "    <tr style=\"text-align: right;\">\n",
       "      <th></th>\n",
       "      <th>ID</th>\n",
       "      <th>Google_Aid_Count</th>\n",
       "      <th>Ios_Ifa_Count</th>\n",
       "    </tr>\n",
       "  </thead>\n",
       "  <tbody>\n",
       "    <tr>\n",
       "      <th>0</th>\n",
       "      <td>1914</td>\n",
       "      <td>19</td>\n",
       "      <td>1</td>\n",
       "    </tr>\n",
       "    <tr>\n",
       "      <th>1</th>\n",
       "      <td>2882</td>\n",
       "      <td>23</td>\n",
       "      <td>190</td>\n",
       "    </tr>\n",
       "    <tr>\n",
       "      <th>2</th>\n",
       "      <td>4575</td>\n",
       "      <td>1</td>\n",
       "      <td>1</td>\n",
       "    </tr>\n",
       "    <tr>\n",
       "      <th>3</th>\n",
       "      <td>5087</td>\n",
       "      <td>208</td>\n",
       "      <td>7535</td>\n",
       "    </tr>\n",
       "    <tr>\n",
       "      <th>4</th>\n",
       "      <td>5281</td>\n",
       "      <td>18</td>\n",
       "      <td>8</td>\n",
       "    </tr>\n",
       "    <tr>\n",
       "      <th>5</th>\n",
       "      <td>6102</td>\n",
       "      <td>46188</td>\n",
       "      <td>1</td>\n",
       "    </tr>\n",
       "    <tr>\n",
       "      <th>6</th>\n",
       "      <td>6380</td>\n",
       "      <td>1</td>\n",
       "      <td>1</td>\n",
       "    </tr>\n",
       "    <tr>\n",
       "      <th>7</th>\n",
       "      <td>6489</td>\n",
       "      <td>4</td>\n",
       "      <td>3</td>\n",
       "    </tr>\n",
       "    <tr>\n",
       "      <th>8</th>\n",
       "      <td>6507</td>\n",
       "      <td>1</td>\n",
       "      <td>1</td>\n",
       "    </tr>\n",
       "    <tr>\n",
       "      <th>9</th>\n",
       "      <td>6651</td>\n",
       "      <td>179</td>\n",
       "      <td>1</td>\n",
       "    </tr>\n",
       "  </tbody>\n",
       "</table>\n",
       "</div>"
      ],
      "text/plain": [
       "     ID  Google_Aid_Count  Ios_Ifa_Count\n",
       "0  1914  19                1            \n",
       "1  2882  23                190          \n",
       "2  4575  1                 1            \n",
       "3  5087  208               7535         \n",
       "4  5281  18                8            \n",
       "5  6102  46188             1            \n",
       "6  6380  1                 1            \n",
       "7  6489  4                 3            \n",
       "8  6507  1                 1            \n",
       "9  6651  179               1            "
      ]
     },
     "execution_count": 30,
     "metadata": {},
     "output_type": "execute_result"
    }
   ],
   "source": [
    "resultdf"
   ]
  },
  {
   "cell_type": "markdown",
   "metadata": {},
   "source": [
    "### 1(b): Calculate how many valid google_aid & ios_ifa exist in the dataset."
   ]
  },
  {
   "cell_type": "markdown",
   "metadata": {},
   "source": [
    "#### A google_aid value always exists in this format: nnnnnnnn-nnnn-nnnn-nnnnnnnnnnnnnnnn where all characters are alphanumeric, and in lower case, overall length is 36 characters."
   ]
  },
  {
   "cell_type": "code",
   "execution_count": 31,
   "metadata": {},
   "outputs": [],
   "source": [
    "# UUID regular expression for google_aid \n",
    "google_aid_regex = r\"[0-9a-f]{8}-[0-9a-f]{4}-[0-9a-f]{4}-[0-9a-f]{4}-[0-9a-f]{12}\""
   ]
  },
  {
   "cell_type": "markdown",
   "metadata": {},
   "source": [
    "#### An ios_ifa identifier also exists in the same format: NNNNNNNNNNNN-NNNN-NNNN-NNNNNNNNNNNN where all the characters are alphanumeric, and in upper case, overall length is 36 characters."
   ]
  },
  {
   "cell_type": "code",
   "execution_count": 32,
   "metadata": {},
   "outputs": [],
   "source": [
    "# UUID regular expression for ios_ifa\n",
    "ios_ifa_regex = r\"[0-9A-F]{8}-[0-9A-F]{4}-[0-9A-F]{4}-[0-9A-F]{4}-[0-9A-F]{12}\""
   ]
  },
  {
   "cell_type": "code",
   "execution_count": 33,
   "metadata": {},
   "outputs": [],
   "source": [
    "def validate_UUID(col,col_name):\n",
    "    if col_name == \"ios_ifa\":\n",
    "        q = re.findall(ios_ifa_regex, col)\n",
    "    else:\n",
    "        q = re.findall(google_aid_regex, col)\n",
    "    if len(q) > 0:\n",
    "        return q[0]\n",
    "    else:\n",
    "        return 0"
   ]
  },
  {
   "cell_type": "code",
   "execution_count": 34,
   "metadata": {},
   "outputs": [],
   "source": [
    "# Validating ios_ifa with the ios_ifa_regex\n",
    "df['ios_ifa_validated'] = df['ios_ifa'].apply(lambda x: validate_UUID(x, df['ios_ifa'].name))"
   ]
  },
  {
   "cell_type": "code",
   "execution_count": 35,
   "metadata": {},
   "outputs": [
    {
     "data": {
      "text/plain": [
       "7350"
      ]
     },
     "execution_count": 35,
     "metadata": {},
     "output_type": "execute_result"
    }
   ],
   "source": [
    "# Count of the total valid ios_ifa values\n",
    "df[df['ios_ifa_validated'] !=0 ]['ios_ifa'].count()"
   ]
  },
  {
   "cell_type": "code",
   "execution_count": 36,
   "metadata": {},
   "outputs": [],
   "source": [
    "# Validating google_aid with the google_aid_regex\n",
    "df['google_aid_validated'] = df['google_aid'].apply(lambda x: validate_UUID(x, df['google_aid'].name))"
   ]
  },
  {
   "cell_type": "code",
   "execution_count": 37,
   "metadata": {},
   "outputs": [
    {
     "data": {
      "text/plain": [
       "46554"
      ]
     },
     "execution_count": 37,
     "metadata": {},
     "output_type": "execute_result"
    }
   ],
   "source": [
    "# Count of the total valid google_aid values\n",
    "df[df['google_aid_validated'] !=0 ]['google_aid'].count()"
   ]
  },
  {
   "cell_type": "markdown",
   "metadata": {
    "collapsed": true
   },
   "source": [
    "### 2(a): Plot a histogram from the data obtained from exercise 1(a)."
   ]
  },
  {
   "cell_type": "code",
   "execution_count": 38,
   "metadata": {
    "scrolled": true
   },
   "outputs": [
    {
     "data": {
      "text/plain": [
       "<matplotlib.axes._subplots.AxesSubplot at 0x1c0839c4d68>"
      ]
     },
     "execution_count": 38,
     "metadata": {},
     "output_type": "execute_result"
    },
    {
     "data": {
      "image/png": "[encoded data removed]",
      "text/plain": [
       "<matplotlib.figure.Figure at 0x1c0839eb6a0>"
      ]
     },
     "metadata": {},
     "output_type": "display_data"
    }
   ],
   "source": [
    "# Graph with Affiliate_Id on the X-Axis and Frequency on the Y-Axis\n",
    "resultdf.set_index('ID').plot.bar(grid=True,logy=True, figsize = (12,6))"
   ]
  },
  {
   "cell_type": "markdown",
   "metadata": {},
   "source": [
    "### 2(b): Plot a histogram of the no. of clicks v/s affiliate_id in the dataset."
   ]
  },
  {
   "cell_type": "code",
   "execution_count": 39,
   "metadata": {},
   "outputs": [],
   "source": [
    "# Computing the no. of clicks per affiliate_id\n",
    "Total_Clicks_per_AffiliateID = df.groupby('affiliate_id').size()"
   ]
  },
  {
   "cell_type": "code",
   "execution_count": 40,
   "metadata": {},
   "outputs": [
    {
     "data": {
      "text/plain": [
       "affiliate_id\n",
       "1914    19   \n",
       "2882    862  \n",
       "4575    1    \n",
       "5087    38640\n",
       "5281    25   \n",
       "6102    46242\n",
       "6380    1    \n",
       "6489    5    \n",
       "6507    1    \n",
       "6651    180  \n",
       "dtype: int64"
      ]
     },
     "execution_count": 40,
     "metadata": {},
     "output_type": "execute_result"
    }
   ],
   "source": [
    "Total_Clicks_per_AffiliateID"
   ]
  },
  {
   "cell_type": "code",
   "execution_count": 41,
   "metadata": {},
   "outputs": [
    {
     "data": {
      "text/plain": [
       "pandas.core.series.Series"
      ]
     },
     "execution_count": 41,
     "metadata": {},
     "output_type": "execute_result"
    }
   ],
   "source": [
    "type(Total_Clicks_per_AffiliateID)"
   ]
  },
  {
   "cell_type": "code",
   "execution_count": 42,
   "metadata": {},
   "outputs": [],
   "source": [
    "# Converting the above series to the dataframe\n",
    "clicks_df = pd.DataFrame(Total_Clicks_per_AffiliateID)"
   ]
  },
  {
   "cell_type": "code",
   "execution_count": 43,
   "metadata": {},
   "outputs": [
    {
     "data": {
      "text/plain": [
       "<matplotlib.axes._subplots.AxesSubplot at 0x1c083a44080>"
      ]
     },
     "execution_count": 43,
     "metadata": {},
     "output_type": "execute_result"
    },
    {
     "data": {
      "image/png": "[encoded data removed]",
      "text/plain": [
       "<matplotlib.figure.Figure at 0x1c083f08be0>"
      ]
     },
     "metadata": {},
     "output_type": "display_data"
    }
   ],
   "source": [
    "# Plotting the graph to represent Number of Clicks per Affiliate_Id\n",
    "clicks_df.plot.bar(grid=True,logy=True, figsize = (12,6), legend = False, title = \"Number of Clicks vs Affiliate ID\")"
   ]
  }
 ],
 "metadata": {
  "kernelspec": {
   "display_name": "Python 3",
   "language": "python",
   "name": "python3"
  },
  "language_info": {
   "codemirror_mode": {
    "name": "ipython",
    "version": 3
   },
   "file_extension": ".py",
   "mimetype": "text/x-python",
   "name": "python",
   "nbconvert_exporter": "python",
   "pygments_lexer": "ipython3",
   "version": "3.6.4"
  }
 },
 "nbformat": 4,
 "nbformat_minor": 2
}
